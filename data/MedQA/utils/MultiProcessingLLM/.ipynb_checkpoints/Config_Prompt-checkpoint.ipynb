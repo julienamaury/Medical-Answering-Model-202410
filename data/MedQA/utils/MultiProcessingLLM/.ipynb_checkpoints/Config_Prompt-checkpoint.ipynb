{
 "cells": [
  {
   "cell_type": "markdown",
   "id": "d8833451-1842-4d18-827f-fd7c852d7430",
   "metadata": {},
   "source": [
    "# 设计Prompt并保存为json文件"
   ]
  },
  {
   "cell_type": "code",
   "execution_count": 1,
   "id": "80d3997d-898e-4dae-b258-6a3491f72d5f",
   "metadata": {},
   "outputs": [],
   "source": [
    "import os\n",
    "import json"
   ]
  },
  {
   "cell_type": "markdown",
   "id": "e761a75d-1a9c-4fdf-9d55-2568f348bcf8",
   "metadata": {},
   "source": [
    "## 用于总结长文本摘要的Prompt"
   ]
  },
  {
   "cell_type": "code",
   "execution_count": 3,
   "id": "46d052c6-3184-4c2a-aa3f-5597a28fc3ef",
   "metadata": {},
   "outputs": [
    {
     "name": "stdout",
     "output_type": "stream",
     "text": [
      "你是一位专业的汉语言文学专家，给定以下文档：\n",
      "\n",
      "{}\n",
      "\n",
      "请依据上述文档内容，撰写不超过500字的摘要：\n"
     ]
    }
   ],
   "source": [
    "general_prompt = '''你是一位专业的汉语言文学专家，给定以下文档：\n",
    "\n",
    "{}\n",
    "\n",
    "请依据上述文档内容，撰写不超过500字的摘要：'''\n",
    "\n",
    "print(general_prompt)"
   ]
  },
  {
   "cell_type": "code",
   "execution_count": 4,
   "id": "d7f5734b-32b1-44a9-bea1-56fbb2b7a4d7",
   "metadata": {},
   "outputs": [],
   "source": [
    "key_names_list = [\n",
    "                ['total_text'], # 读取temp_dict['total_text']\n",
    "]\n",
    "\n",
    "list_placeholder = 'list_placeholder'\n",
    "\n",
    "prompt_config = {\n",
    "    \"general_prompt\": general_prompt,\n",
    "    \"key_names_list\": key_names_list,\n",
    "    \"list_placeholder\": list_placeholder\n",
    "}"
   ]
  },
  {
   "cell_type": "code",
   "execution_count": 5,
   "id": "76142a57-a693-459c-95ea-f67572af0ce5",
   "metadata": {},
   "outputs": [],
   "source": [
    "with open('./prompt_config_of_generate_abstract.json', \"w\", encoding=\"utf-8\") as f:\n",
    "    json.dump(prompt_config, f, indent=4, ensure_ascii=False)"
   ]
  },
  {
   "cell_type": "code",
   "execution_count": null,
   "id": "89fe2e7e-6ef7-4d13-bb40-ac33a725bf24",
   "metadata": {},
   "outputs": [],
   "source": []
  },
  {
   "cell_type": "markdown",
   "id": "3fb9a0b4-4406-4088-aa0a-3042236e4fe6",
   "metadata": {},
   "source": [
    "## 用于对问题和答案生成解释"
   ]
  },
  {
   "cell_type": "code",
   "execution_count": 19,
   "id": "ae5d8971-d966-428a-b270-badb625766e7",
   "metadata": {},
   "outputs": [
    {
     "name": "stdout",
     "output_type": "stream",
     "text": [
      "#目标#\n",
      "你是一个专业的医生、医学类教授，学历为博士，你掌握了扎实的医学基础知识，包括解剖学、生理学、病理学等，以满分的成绩通过了执业医师资格考试，能准确无误地回答临床、中医、口腔、公共卫生等各类医学问题和医学资格考试题并且能详细做出解释。\n",
      "请模仿参考的回答案例，基于以下从知识库当中检索到的知识，对于**给定问题**和**参考答案**，撰写详细的、有据可依的解析，以便帮助更好地理解参考答案。如果提供的知识没有帮助，则忽略提供的知识，直接以你的专业能力进行解释。\n",
      "\n",
      "#参考的回答案例#\n",
      "<问题示例>\n",
      "给定问题：下列哪项是耳、肾毒性最大的氨基糖苷类抗生素？（　　）\n",
      "A. 庆大霉素\n",
      "B. 卡那霉素\n",
      "C. 西索米星\n",
      "D. 奈替米星\n",
      "E. 新霉素\n",
      "参考答案：E. 新霉素\n",
      "\n",
      "解析：新霉素是一种氨基糖苷类抗生素，具有广泛的抗菌谱，但因其耳毒性和肾毒性较大，临床应用受到限制。新霉素的耳毒性主要表现为听力下降、耳鸣和平衡障碍，而肾毒性则表现为肾小管损伤和肾功能减退。因此，在临床使用时需要严格掌握适应症和剂量，避免不良反应的发生。其他选项的氨基糖苷类抗生素虽然也具有一定的耳毒性和肾毒性，但相对较小。\n",
      "\n",
      "</问题示例>\n",
      "\n",
      "#知识#\n",
      "知识库中检索的知识如下所示：\n",
      "<知识点>\n",
      "{}\n",
      "</知识点>\n",
      "\n",
      "#需要生成解析的问题#\n",
      "请针对以下用户输入的选择题以及对应的参考答案，结合检索到的知识给出准确的、详细的、合理的解析过程。\n",
      "**给定问题**：{}\n",
      "**参考答案**：{}\n",
      "\n",
      "#回答格式#\n",
      "解析：xxx\n"
     ]
    }
   ],
   "source": [
    "general_prompt = '''#目标#\n",
    "你是一个专业的医生、医学类教授，学历为博士，你掌握了扎实的医学基础知识，包括解剖学、生理学、病理学等，以满分的成绩通过了执业医师资格考试，能准确无误地回答临床、中医、口腔、公共卫生等各类医学问题和医学资格考试题并且能详细做出解释。\n",
    "请模仿参考的回答案例，基于以下从知识库当中检索到的知识，对于**给定问题**和**参考答案**，撰写详细的、有据可依的解析，以便帮助更好地理解参考答案。如果提供的知识没有帮助，则忽略提供的知识，直接以你的专业能力进行解释。\n",
    "\n",
    "#参考的回答案例#\n",
    "<问题示例>\n",
    "给定问题：下列哪项是耳、肾毒性最大的氨基糖苷类抗生素？（　　）\\nA. 庆大霉素\\nB. 卡那霉素\\nC. 西索米星\\nD. 奈替米星\\nE. 新霉素\n",
    "参考答案：E. 新霉素\n",
    "\n",
    "解析：新霉素是一种氨基糖苷类抗生素，具有广泛的抗菌谱，但因其耳毒性和肾毒性较大，临床应用受到限制。新霉素的耳毒性主要表现为听力下降、耳鸣和平衡障碍，而肾毒性则表现为肾小管损伤和肾功能减退。因此，在临床使用时需要严格掌握适应症和剂量，避免不良反应的发生。其他选项的氨基糖苷类抗生素虽然也具有一定的耳毒性和肾毒性，但相对较小。\n",
    "\n",
    "</问题示例>\n",
    "\n",
    "#知识#\n",
    "知识库中检索的知识如下所示：\n",
    "<知识点>\n",
    "{}\n",
    "</知识点>\n",
    "\n",
    "#需要生成解析的问题#\n",
    "请针对以下用户输入的选择题以及对应的参考答案，结合检索到的知识给出准确的、详细的、合理的解析过程。\n",
    "**给定问题**：{}\n",
    "**参考答案**：{}\n",
    "\n",
    "#回答格式#\n",
    "解析：xxx'''\n",
    "\n",
    "print(general_prompt)"
   ]
  },
  {
   "cell_type": "code",
   "execution_count": 20,
   "id": "6e095811-6a0b-4227-9106-346e94c48a2e",
   "metadata": {},
   "outputs": [],
   "source": [
    "key_names_list = [\n",
    "    ['knowledges_for_llm'], # 读取temp_dict['total_text']\n",
    "    ['question_with_options'],\n",
    "    ['answer_with_idx']\n",
    "]\n",
    "\n",
    "list_placeholder = 'list_placeholder'\n",
    "\n",
    "prompt_config = {\n",
    "    \"general_prompt\": general_prompt,\n",
    "    \"key_names_list\": key_names_list,\n",
    "    \"list_placeholder\": list_placeholder\n",
    "}"
   ]
  },
  {
   "cell_type": "code",
   "execution_count": 21,
   "id": "1e4cef90-1de1-4c15-88a0-acb8bac297de",
   "metadata": {},
   "outputs": [],
   "source": [
    "with open('./prompt_config_of_generate_explain.json', \"w\", encoding=\"utf-8\") as f:\n",
    "    json.dump(prompt_config, f, indent=4, ensure_ascii=False)"
   ]
  },
  {
   "cell_type": "code",
   "execution_count": null,
   "id": "c453cf06-2383-42d2-98d4-ccaba81056eb",
   "metadata": {},
   "outputs": [],
   "source": []
  },
  {
   "cell_type": "code",
   "execution_count": 12,
   "id": "b5f3123d-1e81-46e2-b3fc-7840d43e2d22",
   "metadata": {},
   "outputs": [],
   "source": [
    "example =     {\n",
    "        \"question_with_options\": \"经调查证实出现医院感染流行时，医院应报告当地卫生行政部门的时间是（　　）。\\nA. 2小时\\nB. 4小时内\\nC. 8小时内\\nD. 12小时内\\nE. 24小时内\",\n",
    "        \"answer_with_idx\": \"E. 24小时内\",\n",
    "        \"knowledges_for_llm\" : \"xxx\",\n",
    "        \"question\": \"经调查证实出现医院感染流行时，医院应报告当地卫生行政部门的时间是（　　）。\",\n",
    "        \"options\": {\n",
    "            \"A\": \"2小时\",\n",
    "            \"B\": \"4小时内\",\n",
    "            \"C\": \"8小时内\",\n",
    "            \"D\": \"12小时内\",\n",
    "            \"E\": \"24小时内\"\n",
    "        },\n",
    "        \"answer\": \"24小时内\",\n",
    "        \"meta_info\": \"卫生法规\",\n",
    "        \"answer_idx\": \"E\",\n",
    "        \"id\": 0,\n",
    "        \"retrieve_info\": {\n",
    "            \"retrieve_query\": \"经调查证实出现医院感染流行时，医院应报告当地卫生行政部门的时间是（　　）。\\nA. 2小时\\nB. 4小时内\\nC. 8小时内\\nD. 12小时内\\nE. 24小时内\",\n",
    "            \"embedding_name\": \"stella-base-zh-v2\",\n",
    "            \"topk_knowledge\": 10,\n",
    "            \"knowledge_threshold\": 0.65,\n",
    "            \"knowledges_info\": {\n",
    "                \"knowledges\": [\n",
    "                    \"《医院感染管理办法》规定，有下列情形时，医疗机构应当于12小时内向所在地的县级卫生行政部门报告，并同时向所在地疾病预防控制机构报告：CD5例以上医院感染暴发；＠由千医院感染暴发直接导致患者死亡；＠由千医院感染暴发导致3人以上人身损害后果。有下列情形时，应当按照《国家突发公共卫生事件相关信息报告管理工作规范（试行）》的要求进行报告：CD10例以上的医院感染暴发事件；＠发生特殊病原体或者新发病原体的医院感染；＠可能造成重大公共影响或者严重后果的医院感染。\",\n",
    "                    \"(3)责任报告人及报告时限：任何入发现传染病患者或者疑似传染病患者时，都应当及时向附近的医疗保健机构或者卫生防疫机构报告。为了加强传染病信息报告管理，原国家卫生部于2006年制定了《传染病信息报告管理规范》，其中规定各级各类医疗机构、疾病预防控制机构、采供血机构均为责任报告单位；其执行职务的人员和乡村医生、个体开业医生均为责任疫情报告人。\",\n",
    "                    \"2报告医护人员个人在做好应急处理、安抚患者后，应立即、主动向相关科室如院内感染科、主要领导报告；必要时医院应向上级主管部门报告，以便尽早征求专家对该紧急事件的处理意见。报告的要点包括事件发生的日期及时间、发生的主要过程、严重程度及可能的影响、相关患者和工作人员的基本状况。\",\n",
    "                    \"根据我国原卫生部2001年发布的《医院感染诊断标准（试行）》和美国疾病控制预防中心(CDC)医院感染的诊断标准，下述情况属于医院感染：也无明确潜伏期的感染，入院48小时后发生的感染为医院感染；有明确潜伏期的感染，自入院时起超过平均潜伏期后发生的感染为医院感染；＠本次感染与上次住院密切相关，是上次住院期间获得的感染；＠在原有感染的基础上出现其他部位新的感染（除外脓毒血症迁延病灶），或在原有感染基础上又分离出新的病原体（除外污染和原来的混合感染）的感染；＠新生儿在分挽过程当中或产后获得的感染；＠医务人员在其工作期间获得的感染。\",\n",
    "                    \"突发事件监测机构、医疗卫生机构和有关单位发现上述需要报告情形之一的，应当在2小时内向所在地县级人民政府卫生行政部门报告；接到报告的卫生行政部门应当在2小时内向本级人民政府报告，并同时向上级人民政府卫生行政部门和国务院卫生行政部门报告。地方人民政府应当在接到报告后2小时内向上一级人民政府报告。\",\n",
    "                    \"（二）报告内容和时限\\n《突发公共卫生事件应急条例》规定，有下列情形之一的，省、自治区、直辖市人民政府应当在接136第十二章突发公共卫生事件应急法律制度到报告l小时内，向国务院卫生行政部门报告：CD发生或者可能发生传染病暴发、流行；＠发生或者发现不明原因的群体性疾病；＠发生传染病菌种、毒种丢失；＠发生或者可能发生重大食物和职业中毒事件。\",\n",
    "                    \"省、自治区直辖市人民政府在接到报告l小时内，向国务院卫生行政部门报告。国务院卫生行政部门对可能造成重大社会影响的突发公共卫生事件，立即向国务院报告。接到报告的地方人民政府、卫生行政部门在依照规定报告的同时，应当立即组织力量对报告事项调查核实、确证，采取必要的控制措施，并及时报告调查情况。对举报突发公共卫生事件有功的单位和个人，县级以上各级人民政府及其有关部门应当予以奖励。\",\n",
    "                    \"2.卫生检疫机关的通报卫生检疫机关发现检疫传染病、监测传染病、疑似检疫传染病时，应当向当地卫生行政部门和卫生防疫机构通报；发现检疫传染病时，还应当用最快的办法向国务院卫生行政部门报告。\",\n",
    "                    \"4.医院感染的时间分布医院感染的季节分布，一般是秋冬季感染率较高，而夏季的感染率则相对较低。（二）医院感染的传播过程对于外源性感染而言，医院感染的传播过程包括了传染源、传播途径和易感人群三个环节，三个环节缺少任一环节则其传播过程将中断。但是，内源性感染或自身感染，其传播过程则和上述不同，需从微生态学角度进行描述，它包括感染源（患者自身）、病原体易位途径和易感微生态环境。\",\n",
    "                    \"2报告时限和程序突发公共卫生事件监测机构、医疗卫生机构及有关单位发现突发公共卫生事件后，应在2小时内向所在地区县（区）级人民政府的卫生行政部门报告。卫生行政部门在接到突发公共卫生事件报告后，应在2小时内向同级入民政府报告；同时，向上级人民政府卫生行政部门报告，并立即组织进行现场调查，确认事件性质，及时采取措施，随时报告事件进展事态。\"\n",
    "                ],\n",
    "                \"scores\": [\n",
    "                    0.8871313333511353,\n",
    "                    0.8642984330654144,\n",
    "                    0.862925261259079,\n",
    "                    0.8627749383449554,\n",
    "                    0.8622667789459229,\n",
    "                    0.8618401288986206,\n",
    "                    0.8613466024398804,\n",
    "                    0.8589510321617126,\n",
    "                    0.8581297993659973,\n",
    "                    0.8580926060676575\n",
    "                ],\n",
    "                \"knowledge_names\": [\n",
    "                    \"卫生法\",\n",
    "                    \"预防医学\",\n",
    "                    \"预防医学\",\n",
    "                    \"传染病学\",\n",
    "                    \"卫生法\",\n",
    "                    \"卫生法\",\n",
    "                    \"卫生法\",\n",
    "                    \"卫生法\",\n",
    "                    \"预防医学\",\n",
    "                    \"卫生学\"\n",
    "                ]\n",
    "            },\n",
    "            \"retrieval_time\": 0.940801668999999\n",
    "        }\n",
    "    }"
   ]
  },
  {
   "cell_type": "code",
   "execution_count": 13,
   "id": "1711ce04-aea4-4c25-92a7-aecbc438e092",
   "metadata": {},
   "outputs": [
    {
     "name": "stdout",
     "output_type": "stream",
     "text": [
      "{'question_with_options': '经调查证实出现医院感染流行时，医院应报告当地卫生行政部门的时间是（\\u3000\\u3000）。\\nA. 2小时\\nB. 4小时内\\nC. 8小时内\\nD. 12小时内\\nE. 24小时内', 'answer_with_idx': 'E. 24小时内', 'question': '经调查证实出现医院感染流行时，医院应报告当地卫生行政部门的时间是（\\u3000\\u3000）。', 'options': {'A': '2小时', 'B': '4小时内', 'C': '8小时内', 'D': '12小时内', 'E': '24小时内'}, 'answer': '24小时内', 'meta_info': '卫生法规', 'answer_idx': 'E', 'id': 0, 'retrieve_info': {'retrieve_query': '经调查证实出现医院感染流行时，医院应报告当地卫生行政部门的时间是（\\u3000\\u3000）。\\nA. 2小时\\nB. 4小时内\\nC. 8小时内\\nD. 12小时内\\nE. 24小时内', 'embedding_name': 'stella-base-zh-v2', 'topk_knowledge': 10, 'knowledge_threshold': 0.65, 'knowledges_info': {'knowledges': ['《医院感染管理办法》规定，有下列情形时，医疗机构应当于12小时内向所在地的县级卫生行政部门报告，并同时向所在地疾病预防控制机构报告：CD5例以上医院感染暴发；＠由千医院感染暴发直接导致患者死亡；＠由千医院感染暴发导致3人以上人身损害后果。有下列情形时，应当按照《国家突发公共卫生事件相关信息报告管理工作规范（试行）》的要求进行报告：CD10例以上的医院感染暴发事件；＠发生特殊病原体或者新发病原体的医院感染；＠可能造成重大公共影响或者严重后果的医院感染。', '(3)责任报告人及报告时限：任何入发现传染病患者或者疑似传染病患者时，都应当及时向附近的医疗保健机构或者卫生防疫机构报告。为了加强传染病信息报告管理，原国家卫生部于2006年制定了《传染病信息报告管理规范》，其中规定各级各类医疗机构、疾病预防控制机构、采供血机构均为责任报告单位；其执行职务的人员和乡村医生、个体开业医生均为责任疫情报告人。', '2报告医护人员个人在做好应急处理、安抚患者后，应立即、主动向相关科室如院内感染科、主要领导报告；必要时医院应向上级主管部门报告，以便尽早征求专家对该紧急事件的处理意见。报告的要点包括事件发生的日期及时间、发生的主要过程、严重程度及可能的影响、相关患者和工作人员的基本状况。', '根据我国原卫生部2001年发布的《医院感染诊断标准（试行）》和美国疾病控制预防中心(CDC)医院感染的诊断标准，下述情况属于医院感染：也无明确潜伏期的感染，入院48小时后发生的感染为医院感染；有明确潜伏期的感染，自入院时起超过平均潜伏期后发生的感染为医院感染；＠本次感染与上次住院密切相关，是上次住院期间获得的感染；＠在原有感染的基础上出现其他部位新的感染（除外脓毒血症迁延病灶），或在原有感染基础上又分离出新的病原体（除外污染和原来的混合感染）的感染；＠新生儿在分挽过程当中或产后获得的感染；＠医务人员在其工作期间获得的感染。', '突发事件监测机构、医疗卫生机构和有关单位发现上述需要报告情形之一的，应当在2小时内向所在地县级人民政府卫生行政部门报告；接到报告的卫生行政部门应当在2小时内向本级人民政府报告，并同时向上级人民政府卫生行政部门和国务院卫生行政部门报告。地方人民政府应当在接到报告后2小时内向上一级人民政府报告。', '（二）报告内容和时限\\n《突发公共卫生事件应急条例》规定，有下列情形之一的，省、自治区、直辖市人民政府应当在接136第十二章突发公共卫生事件应急法律制度到报告l小时内，向国务院卫生行政部门报告：CD发生或者可能发生传染病暴发、流行；＠发生或者发现不明原因的群体性疾病；＠发生传染病菌种、毒种丢失；＠发生或者可能发生重大食物和职业中毒事件。', '省、自治区直辖市人民政府在接到报告l小时内，向国务院卫生行政部门报告。国务院卫生行政部门对可能造成重大社会影响的突发公共卫生事件，立即向国务院报告。接到报告的地方人民政府、卫生行政部门在依照规定报告的同时，应当立即组织力量对报告事项调查核实、确证，采取必要的控制措施，并及时报告调查情况。对举报突发公共卫生事件有功的单位和个人，县级以上各级人民政府及其有关部门应当予以奖励。', '2.卫生检疫机关的通报卫生检疫机关发现检疫传染病、监测传染病、疑似检疫传染病时，应当向当地卫生行政部门和卫生防疫机构通报；发现检疫传染病时，还应当用最快的办法向国务院卫生行政部门报告。', '4.医院感染的时间分布医院感染的季节分布，一般是秋冬季感染率较高，而夏季的感染率则相对较低。（二）医院感染的传播过程对于外源性感染而言，医院感染的传播过程包括了传染源、传播途径和易感人群三个环节，三个环节缺少任一环节则其传播过程将中断。但是，内源性感染或自身感染，其传播过程则和上述不同，需从微生态学角度进行描述，它包括感染源（患者自身）、病原体易位途径和易感微生态环境。', '2报告时限和程序突发公共卫生事件监测机构、医疗卫生机构及有关单位发现突发公共卫生事件后，应在2小时内向所在地区县（区）级人民政府的卫生行政部门报告。卫生行政部门在接到突发公共卫生事件报告后，应在2小时内向同级入民政府报告；同时，向上级人民政府卫生行政部门报告，并立即组织进行现场调查，确认事件性质，及时采取措施，随时报告事件进展事态。'], 'scores': [0.8871313333511353, 0.8642984330654144, 0.862925261259079, 0.8627749383449554, 0.8622667789459229, 0.8618401288986206, 0.8613466024398804, 0.8589510321617126, 0.8581297993659973, 0.8580926060676575], 'knowledge_names': ['卫生法', '预防医学', '预防医学', '传染病学', '卫生法', '卫生法', '卫生法', '卫生法', '预防医学', '卫生学']}, 'retrieval_time': 0.940801668999999}}\n"
     ]
    }
   ],
   "source": [
    "print(example)"
   ]
  },
  {
   "cell_type": "code",
   "execution_count": 16,
   "id": "0d9d7ae5-e75f-485a-a8ee-07842f66219b",
   "metadata": {},
   "outputs": [],
   "source": [
    "question_str = example[\"question_with_options\"]\n",
    "knowledge_lists = example[\"retrieve_info\"][\"knowledges_info\"][\"knowledges\"]\n",
    "knowledges_for_llm = \"\\n\\n\".join(knowledge_lists)\n",
    "answer_str = example[\"answer_with_idx\"]"
   ]
  },
  {
   "cell_type": "code",
   "execution_count": 17,
   "id": "f99bf89a-d7a3-4acd-8ec3-7037d512e6e1",
   "metadata": {},
   "outputs": [],
   "source": [
    "total_input = general_prompt.format(knowledges_for_llm, question_str, answer_str)"
   ]
  },
  {
   "cell_type": "code",
   "execution_count": 18,
   "id": "7978ec02-f2c3-4b2b-914c-0e266bc46bd4",
   "metadata": {},
   "outputs": [
    {
     "name": "stdout",
     "output_type": "stream",
     "text": [
      "#目标#\n",
      "你是一个专业的医生、医学类教授，学历为博士，你掌握了扎实的医学基础知识，包括解剖学、生理学、病理学等，以满分的成绩通过了执业医师资格考试，能准确无误地回答临床、中医、口腔、公共卫生等各类医学问题和医学资格考试题并且能详细做出解释。\n",
      "请模仿参考的回答案例，基于以下从知识库当中检索到的知识，对于**给定问题**和**参考答案**，撰写详细的、有据可依的解析，以便帮助更好地理解参考答案。如果提供的知识没有帮助，则忽略提供的知识，直接以你的专业能力进行解释。\n",
      "\n",
      "#参考的回答案例#\n",
      "<问题示例>\n",
      "给定问题：下列哪项是耳、肾毒性最大的氨基糖苷类抗生素？（　　）\n",
      "A. 庆大霉素\n",
      "B. 卡那霉素\n",
      "C. 西索米星\n",
      "D. 奈替米星\n",
      "E. 新霉素\n",
      "参考答案：E. 新霉素\n",
      "\n",
      "解析：新霉素是一种氨基糖苷类抗生素，具有广泛的抗菌谱，但因其耳毒性和肾毒性较大，临床应用受到限制。新霉素的耳毒性主要表现为听力下降、耳鸣和平衡障碍，而肾毒性则表现为肾小管损伤和肾功能减退。因此，在临床使用时需要严格掌握适应症和剂量，避免不良反应的发生。其他选项的氨基糖苷类抗生素虽然也具有一定的耳毒性和肾毒性，但相对较小。\n",
      "\n",
      "</问题示例>\n",
      "\n",
      "#知识#\n",
      "知识库中检索的知识如下所示：\n",
      "<知识点>\n",
      "《医院感染管理办法》规定，有下列情形时，医疗机构应当于12小时内向所在地的县级卫生行政部门报告，并同时向所在地疾病预防控制机构报告：CD5例以上医院感染暴发；＠由千医院感染暴发直接导致患者死亡；＠由千医院感染暴发导致3人以上人身损害后果。有下列情形时，应当按照《国家突发公共卫生事件相关信息报告管理工作规范（试行）》的要求进行报告：CD10例以上的医院感染暴发事件；＠发生特殊病原体或者新发病原体的医院感染；＠可能造成重大公共影响或者严重后果的医院感染。\n",
      "\n",
      "(3)责任报告人及报告时限：任何入发现传染病患者或者疑似传染病患者时，都应当及时向附近的医疗保健机构或者卫生防疫机构报告。为了加强传染病信息报告管理，原国家卫生部于2006年制定了《传染病信息报告管理规范》，其中规定各级各类医疗机构、疾病预防控制机构、采供血机构均为责任报告单位；其执行职务的人员和乡村医生、个体开业医生均为责任疫情报告人。\n",
      "\n",
      "2报告医护人员个人在做好应急处理、安抚患者后，应立即、主动向相关科室如院内感染科、主要领导报告；必要时医院应向上级主管部门报告，以便尽早征求专家对该紧急事件的处理意见。报告的要点包括事件发生的日期及时间、发生的主要过程、严重程度及可能的影响、相关患者和工作人员的基本状况。\n",
      "\n",
      "根据我国原卫生部2001年发布的《医院感染诊断标准（试行）》和美国疾病控制预防中心(CDC)医院感染的诊断标准，下述情况属于医院感染：也无明确潜伏期的感染，入院48小时后发生的感染为医院感染；有明确潜伏期的感染，自入院时起超过平均潜伏期后发生的感染为医院感染；＠本次感染与上次住院密切相关，是上次住院期间获得的感染；＠在原有感染的基础上出现其他部位新的感染（除外脓毒血症迁延病灶），或在原有感染基础上又分离出新的病原体（除外污染和原来的混合感染）的感染；＠新生儿在分挽过程当中或产后获得的感染；＠医务人员在其工作期间获得的感染。\n",
      "\n",
      "突发事件监测机构、医疗卫生机构和有关单位发现上述需要报告情形之一的，应当在2小时内向所在地县级人民政府卫生行政部门报告；接到报告的卫生行政部门应当在2小时内向本级人民政府报告，并同时向上级人民政府卫生行政部门和国务院卫生行政部门报告。地方人民政府应当在接到报告后2小时内向上一级人民政府报告。\n",
      "\n",
      "（二）报告内容和时限\n",
      "《突发公共卫生事件应急条例》规定，有下列情形之一的，省、自治区、直辖市人民政府应当在接136第十二章突发公共卫生事件应急法律制度到报告l小时内，向国务院卫生行政部门报告：CD发生或者可能发生传染病暴发、流行；＠发生或者发现不明原因的群体性疾病；＠发生传染病菌种、毒种丢失；＠发生或者可能发生重大食物和职业中毒事件。\n",
      "\n",
      "省、自治区直辖市人民政府在接到报告l小时内，向国务院卫生行政部门报告。国务院卫生行政部门对可能造成重大社会影响的突发公共卫生事件，立即向国务院报告。接到报告的地方人民政府、卫生行政部门在依照规定报告的同时，应当立即组织力量对报告事项调查核实、确证，采取必要的控制措施，并及时报告调查情况。对举报突发公共卫生事件有功的单位和个人，县级以上各级人民政府及其有关部门应当予以奖励。\n",
      "\n",
      "2.卫生检疫机关的通报卫生检疫机关发现检疫传染病、监测传染病、疑似检疫传染病时，应当向当地卫生行政部门和卫生防疫机构通报；发现检疫传染病时，还应当用最快的办法向国务院卫生行政部门报告。\n",
      "\n",
      "4.医院感染的时间分布医院感染的季节分布，一般是秋冬季感染率较高，而夏季的感染率则相对较低。（二）医院感染的传播过程对于外源性感染而言，医院感染的传播过程包括了传染源、传播途径和易感人群三个环节，三个环节缺少任一环节则其传播过程将中断。但是，内源性感染或自身感染，其传播过程则和上述不同，需从微生态学角度进行描述，它包括感染源（患者自身）、病原体易位途径和易感微生态环境。\n",
      "\n",
      "2报告时限和程序突发公共卫生事件监测机构、医疗卫生机构及有关单位发现突发公共卫生事件后，应在2小时内向所在地区县（区）级人民政府的卫生行政部门报告。卫生行政部门在接到突发公共卫生事件报告后，应在2小时内向同级入民政府报告；同时，向上级人民政府卫生行政部门报告，并立即组织进行现场调查，确认事件性质，及时采取措施，随时报告事件进展事态。\n",
      "</知识点>\n",
      "\n",
      "#需要生成解析的问题#\n",
      "请针对以下用户输入的选择题以及对应的参考答案，结合检索到的知识给出准确的、详细的、合理的解析过程。\n",
      "**给定问题**：经调查证实出现医院感染流行时，医院应报告当地卫生行政部门的时间是（　　）。\n",
      "A. 2小时\n",
      "B. 4小时内\n",
      "C. 8小时内\n",
      "D. 12小时内\n",
      "E. 24小时内\n",
      "**参考答案**：E. 24小时内\n",
      "\n",
      "#回答格式#\n",
      "解析：xxx\n"
     ]
    }
   ],
   "source": [
    "print(total_input)"
   ]
  },
  {
   "cell_type": "markdown",
   "id": "66584245-fd7f-4d17-92a8-bd0124bcb859",
   "metadata": {},
   "source": [
    "## 英文版本-用于对问题和答案生成解释"
   ]
  },
  {
   "cell_type": "code",
   "execution_count": null,
   "id": "a6831ee5-8054-41b6-8b90-c64d726cb304",
   "metadata": {},
   "outputs": [],
   "source": [
    "general_prompt = '''#Goal#\n",
    "You are a professional doctor and medical professor with a doctoral degree. You have a solid foundation in medical knowledge, including anatomy, physiology, pathology, etc. You have passed the qualification exam for practicing physicians with full marks, and can accurately and accurately answer various medical questions and medical qualification exam questions in clinical practice, traditional Chinese medicine, dentistry, public health, and provide detailed explanations.\n",
    "Please imitate the reference answer example and based on the knowledge retrieved from the knowledge base, write a detailed and evidence-based analysis for the **Given question** and **Reference answer** to help better understand the reference answer. If the provided knowledge is not helpful, ignore the provided knowledge and explain it directly based on your professional abilities.\n",
    "\n",
    "#Reference answer example#\n",
    "<example>\n",
    "Given question：A junior orthopaedic surgery resident is completing a carpal tunnel repair with the department chairman as the attending physician. During the case, the resident inadvertently cuts a flexor tendon. The tendon is repaired without complication. The attending tells the resident that the patient will do fine, and there is no need to report this minor complication that will not harm the patient, as he does not want to make the patient worry unnecessarily. He tells the resident to leave this complication out of the operative report. Which of the following is the correct next action for the resident to take?\\nA. Disclose the error to the patient but leave it out of the operative report\\nB. Disclose the error to the patient and put it in the operative report\\nC. Tell the attending that he cannot fail to disclose this mistake\\nD. Report the physician to the ethics committee\\nE. Refuse to dictate the operative report\n",
    "参考答案：C. Tell the attending that he cannot fail to disclose this mistake\n",
    "\n",
    "解析：新霉素是一种氨基糖苷类抗生素，具有广泛的抗菌谱，但因其耳毒性和肾毒性较大，临床应用受到限制。新霉素的耳毒性主要表现为听力下降、耳鸣和平衡障碍，而肾毒性则表现为肾小管损伤和肾功能减退。因此，在临床使用时需要严格掌握适应症和剂量，避免不良反应的发生。其他选项的氨基糖苷类抗生素虽然也具有一定的耳毒性和肾毒性，但相对较小。\n",
    "\n",
    "</example>\n",
    "\n",
    "#Knowledges#\n",
    "The knowledge retrieved from the knowledge base is as follows:\n",
    "<knowledge>\n",
    "{}\n",
    "</knowledge>\n",
    "\n",
    "#Question that needs to be generated for parsing#\n",
    "Please provide an accurate, detailed, and reasonable analysis process about the multiple choice question and corresponding reference answers entered by users, combined with the retrieved knowledge.\n",
    "**Given question**：{}\n",
    "**Reference answer**：{}\n",
    "\n",
    "#Answer format#\n",
    "Analysis：xxx'''\n",
    "\n",
    "print(general_prompt)"
   ]
  }
 ],
 "metadata": {
  "kernelspec": {
   "display_name": "Python 3 (ipykernel)",
   "language": "python",
   "name": "python3"
  },
  "language_info": {
   "codemirror_mode": {
    "name": "ipython",
    "version": 3
   },
   "file_extension": ".py",
   "mimetype": "text/x-python",
   "name": "python",
   "nbconvert_exporter": "python",
   "pygments_lexer": "ipython3",
   "version": "3.10.14"
  }
 },
 "nbformat": 4,
 "nbformat_minor": 5
}
