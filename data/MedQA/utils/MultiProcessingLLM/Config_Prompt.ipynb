{
 "cells": [
  {
   "cell_type": "markdown",
   "id": "d8833451-1842-4d18-827f-fd7c852d7430",
   "metadata": {},
   "source": [
    "# 设计Prompt并保存为json文件"
   ]
  },
  {
   "cell_type": "code",
   "execution_count": 1,
   "id": "80d3997d-898e-4dae-b258-6a3491f72d5f",
   "metadata": {},
   "outputs": [],
   "source": [
    "import os\n",
    "import json"
   ]
  },
  {
   "cell_type": "markdown",
   "id": "e761a75d-1a9c-4fdf-9d55-2568f348bcf8",
   "metadata": {},
   "source": [
    "## 用于总结长文本摘要的Prompt"
   ]
  },
  {
   "cell_type": "code",
   "execution_count": 3,
   "id": "46d052c6-3184-4c2a-aa3f-5597a28fc3ef",
   "metadata": {},
   "outputs": [
    {
     "name": "stdout",
     "output_type": "stream",
     "text": [
      "你是一位专业的汉语言文学专家，给定以下文档：\n",
      "\n",
      "{}\n",
      "\n",
      "请依据上述文档内容，撰写不超过500字的摘要：\n"
     ]
    }
   ],
   "source": [
    "general_prompt = '''你是一位专业的汉语言文学专家，给定以下文档：\n",
    "\n",
    "{}\n",
    "\n",
    "请依据上述文档内容，撰写不超过500字的摘要：'''\n",
    "\n",
    "print(general_prompt)"
   ]
  },
  {
   "cell_type": "code",
   "execution_count": 4,
   "id": "d7f5734b-32b1-44a9-bea1-56fbb2b7a4d7",
   "metadata": {},
   "outputs": [],
   "source": [
    "key_names_list = [\n",
    "                ['total_text'], # 读取temp_dict['total_text']\n",
    "]\n",
    "\n",
    "list_placeholder = 'list_placeholder'\n",
    "\n",
    "prompt_config = {\n",
    "    \"general_prompt\": general_prompt,\n",
    "    \"key_names_list\": key_names_list,\n",
    "    \"list_placeholder\": list_placeholder\n",
    "}"
   ]
  },
  {
   "cell_type": "code",
   "execution_count": 5,
   "id": "76142a57-a693-459c-95ea-f67572af0ce5",
   "metadata": {},
   "outputs": [],
   "source": [
    "with open('./prompt_config_of_generate_abstract.json', \"w\", encoding=\"utf-8\") as f:\n",
    "    json.dump(prompt_config, f, indent=4, ensure_ascii=False)"
   ]
  },
  {
   "cell_type": "code",
   "execution_count": null,
   "id": "89fe2e7e-6ef7-4d13-bb40-ac33a725bf24",
   "metadata": {},
   "outputs": [],
   "source": []
  },
  {
   "cell_type": "markdown",
   "id": "3fb9a0b4-4406-4088-aa0a-3042236e4fe6",
   "metadata": {},
   "source": [
    "## 用于对问题和答案生成解释"
   ]
  },
  {
   "cell_type": "code",
   "execution_count": 19,
   "id": "ae5d8971-d966-428a-b270-badb625766e7",
   "metadata": {},
   "outputs": [
    {
     "name": "stdout",
     "output_type": "stream",
     "text": [
      "#目标#\n",
      "你是一个专业的医生、医学类教授，学历为博士，你掌握了扎实的医学基础知识，包括解剖学、生理学、病理学等，以满分的成绩通过了执业医师资格考试，能准确无误地回答临床、中医、口腔、公共卫生等各类医学问题和医学资格考试题并且能详细做出解释。\n",
      "请模仿参考的回答案例，基于以下从知识库当中检索到的知识，对于**给定问题**和**参考答案**，撰写详细的、有据可依的解析，以便帮助更好地理解参考答案。如果提供的知识没有帮助，则忽略提供的知识，直接以你的专业能力进行解释。\n",
      "\n",
      "#参考的回答案例#\n",
      "<问题示例>\n",
      "给定问题：下列哪项是耳、肾毒性最大的氨基糖苷类抗生素？（　　）\n",
      "A. 庆大霉素\n",
      "B. 卡那霉素\n",
      "C. 西索米星\n",
      "D. 奈替米星\n",
      "E. 新霉素\n",
      "参考答案：E. 新霉素\n",
      "\n",
      "解析：新霉素是一种氨基糖苷类抗生素，具有广泛的抗菌谱，但因其耳毒性和肾毒性较大，临床应用受到限制。新霉素的耳毒性主要表现为听力下降、耳鸣和平衡障碍，而肾毒性则表现为肾小管损伤和肾功能减退。因此，在临床使用时需要严格掌握适应症和剂量，避免不良反应的发生。其他选项的氨基糖苷类抗生素虽然也具有一定的耳毒性和肾毒性，但相对较小。\n",
      "\n",
      "</问题示例>\n",
      "\n",
      "#知识#\n",
      "知识库中检索的知识如下所示：\n",
      "<知识点>\n",
      "{}\n",
      "</知识点>\n",
      "\n",
      "#需要生成解析的问题#\n",
      "请针对以下用户输入的选择题以及对应的参考答案，结合检索到的知识给出准确的、详细的、合理的解析过程。\n",
      "**给定问题**：{}\n",
      "**参考答案**：{}\n",
      "\n",
      "#回答格式#\n",
      "解析：xxx\n"
     ]
    }
   ],
   "source": [
    "general_prompt = '''#目标#\n",
    "你是一个专业的医生、医学类教授，学历为博士，你掌握了扎实的医学基础知识，包括解剖学、生理学、病理学等，以满分的成绩通过了执业医师资格考试，能准确无误地回答临床、中医、口腔、公共卫生等各类医学问题和医学资格考试题并且能详细做出解释。\n",
    "请模仿参考的回答案例，基于以下从知识库当中检索到的知识，对于**给定问题**和**参考答案**，撰写详细的、有据可依的解析，以便帮助更好地理解参考答案。如果提供的知识没有帮助，则忽略提供的知识，直接以你的专业能力进行解释。\n",
    "\n",
    "#参考的回答案例#\n",
    "<问题示例>\n",
    "给定问题：下列哪项是耳、肾毒性最大的氨基糖苷类抗生素？（　　）\\nA. 庆大霉素\\nB. 卡那霉素\\nC. 西索米星\\nD. 奈替米星\\nE. 新霉素\n",
    "参考答案：E. 新霉素\n",
    "\n",
    "解析：新霉素是一种氨基糖苷类抗生素，具有广泛的抗菌谱，但因其耳毒性和肾毒性较大，临床应用受到限制。新霉素的耳毒性主要表现为听力下降、耳鸣和平衡障碍，而肾毒性则表现为肾小管损伤和肾功能减退。因此，在临床使用时需要严格掌握适应症和剂量，避免不良反应的发生。其他选项的氨基糖苷类抗生素虽然也具有一定的耳毒性和肾毒性，但相对较小。\n",
    "\n",
    "</问题示例>\n",
    "\n",
    "#知识#\n",
    "知识库中检索的知识如下所示：\n",
    "<知识点>\n",
    "{}\n",
    "</知识点>\n",
    "\n",
    "#需要生成解析的问题#\n",
    "请针对以下用户输入的选择题以及对应的参考答案，结合检索到的知识给出准确的、详细的、合理的解析过程。\n",
    "**给定问题**：{}\n",
    "**参考答案**：{}\n",
    "\n",
    "#回答格式#\n",
    "解析：xxx'''\n",
    "\n",
    "print(general_prompt)"
   ]
  },
  {
   "cell_type": "code",
   "execution_count": 20,
   "id": "6e095811-6a0b-4227-9106-346e94c48a2e",
   "metadata": {},
   "outputs": [],
   "source": [
    "key_names_list = [\n",
    "    ['knowledges_for_llm'], # 读取temp_dict['total_text']\n",
    "    ['question_with_options'],\n",
    "    ['answer_with_idx']\n",
    "]\n",
    "\n",
    "list_placeholder = 'list_placeholder'\n",
    "\n",
    "prompt_config = {\n",
    "    \"general_prompt\": general_prompt,\n",
    "    \"key_names_list\": key_names_list,\n",
    "    \"list_placeholder\": list_placeholder\n",
    "}"
   ]
  },
  {
   "cell_type": "code",
   "execution_count": 21,
   "id": "1e4cef90-1de1-4c15-88a0-acb8bac297de",
   "metadata": {},
   "outputs": [],
   "source": [
    "with open('./prompt_config_of_generate_explain.json', \"w\", encoding=\"utf-8\") as f:\n",
    "    json.dump(prompt_config, f, indent=4, ensure_ascii=False)"
   ]
  },
  {
   "cell_type": "code",
   "execution_count": null,
   "id": "c453cf06-2383-42d2-98d4-ccaba81056eb",
   "metadata": {},
   "outputs": [],
   "source": []
  },
  {
   "cell_type": "code",
   "execution_count": 12,
   "id": "b5f3123d-1e81-46e2-b3fc-7840d43e2d22",
   "metadata": {},
   "outputs": [],
   "source": [
    "example =     {\n",
    "        \"question_with_options\": \"经调查证实出现医院感染流行时，医院应报告当地卫生行政部门的时间是（　　）。\\nA. 2小时\\nB. 4小时内\\nC. 8小时内\\nD. 12小时内\\nE. 24小时内\",\n",
    "        \"answer_with_idx\": \"E. 24小时内\",\n",
    "        \"knowledges_for_llm\" : \"xxx\",\n",
    "        \"question\": \"经调查证实出现医院感染流行时，医院应报告当地卫生行政部门的时间是（　　）。\",\n",
    "        \"options\": {\n",
    "            \"A\": \"2小时\",\n",
    "            \"B\": \"4小时内\",\n",
    "            \"C\": \"8小时内\",\n",
    "            \"D\": \"12小时内\",\n",
    "            \"E\": \"24小时内\"\n",
    "        },\n",
    "        \"answer\": \"24小时内\",\n",
    "        \"meta_info\": \"卫生法规\",\n",
    "        \"answer_idx\": \"E\",\n",
    "        \"id\": 0,\n",
    "        \"retrieve_info\": {\n",
    "            \"retrieve_query\": \"经调查证实出现医院感染流行时，医院应报告当地卫生行政部门的时间是（　　）。\\nA. 2小时\\nB. 4小时内\\nC. 8小时内\\nD. 12小时内\\nE. 24小时内\",\n",
    "            \"embedding_name\": \"stella-base-zh-v2\",\n",
    "            \"topk_knowledge\": 10,\n",
    "            \"knowledge_threshold\": 0.65,\n",
    "            \"knowledges_info\": {\n",
    "                \"knowledges\": [\n",
    "                    \"《医院感染管理办法》规定，有下列情形时，医疗机构应当于12小时内向所在地的县级卫生行政部门报告，并同时向所在地疾病预防控制机构报告：CD5例以上医院感染暴发；＠由千医院感染暴发直接导致患者死亡；＠由千医院感染暴发导致3人以上人身损害后果。有下列情形时，应当按照《国家突发公共卫生事件相关信息报告管理工作规范（试行）》的要求进行报告：CD10例以上的医院感染暴发事件；＠发生特殊病原体或者新发病原体的医院感染；＠可能造成重大公共影响或者严重后果的医院感染。\",\n",
    "                    \"(3)责任报告人及报告时限：任何入发现传染病患者或者疑似传染病患者时，都应当及时向附近的医疗保健机构或者卫生防疫机构报告。为了加强传染病信息报告管理，原国家卫生部于2006年制定了《传染病信息报告管理规范》，其中规定各级各类医疗机构、疾病预防控制机构、采供血机构均为责任报告单位；其执行职务的人员和乡村医生、个体开业医生均为责任疫情报告人。\",\n",
    "                    \"2报告医护人员个人在做好应急处理、安抚患者后，应立即、主动向相关科室如院内感染科、主要领导报告；必要时医院应向上级主管部门报告，以便尽早征求专家对该紧急事件的处理意见。报告的要点包括事件发生的日期及时间、发生的主要过程、严重程度及可能的影响、相关患者和工作人员的基本状况。\",\n",
    "                    \"根据我国原卫生部2001年发布的《医院感染诊断标准（试行）》和美国疾病控制预防中心(CDC)医院感染的诊断标准，下述情况属于医院感染：也无明确潜伏期的感染，入院48小时后发生的感染为医院感染；有明确潜伏期的感染，自入院时起超过平均潜伏期后发生的感染为医院感染；＠本次感染与上次住院密切相关，是上次住院期间获得的感染；＠在原有感染的基础上出现其他部位新的感染（除外脓毒血症迁延病灶），或在原有感染基础上又分离出新的病原体（除外污染和原来的混合感染）的感染；＠新生儿在分挽过程当中或产后获得的感染；＠医务人员在其工作期间获得的感染。\",\n",
    "                    \"突发事件监测机构、医疗卫生机构和有关单位发现上述需要报告情形之一的，应当在2小时内向所在地县级人民政府卫生行政部门报告；接到报告的卫生行政部门应当在2小时内向本级人民政府报告，并同时向上级人民政府卫生行政部门和国务院卫生行政部门报告。地方人民政府应当在接到报告后2小时内向上一级人民政府报告。\",\n",
    "                    \"（二）报告内容和时限\\n《突发公共卫生事件应急条例》规定，有下列情形之一的，省、自治区、直辖市人民政府应当在接136第十二章突发公共卫生事件应急法律制度到报告l小时内，向国务院卫生行政部门报告：CD发生或者可能发生传染病暴发、流行；＠发生或者发现不明原因的群体性疾病；＠发生传染病菌种、毒种丢失；＠发生或者可能发生重大食物和职业中毒事件。\",\n",
    "                    \"省、自治区直辖市人民政府在接到报告l小时内，向国务院卫生行政部门报告。国务院卫生行政部门对可能造成重大社会影响的突发公共卫生事件，立即向国务院报告。接到报告的地方人民政府、卫生行政部门在依照规定报告的同时，应当立即组织力量对报告事项调查核实、确证，采取必要的控制措施，并及时报告调查情况。对举报突发公共卫生事件有功的单位和个人，县级以上各级人民政府及其有关部门应当予以奖励。\",\n",
    "                    \"2.卫生检疫机关的通报卫生检疫机关发现检疫传染病、监测传染病、疑似检疫传染病时，应当向当地卫生行政部门和卫生防疫机构通报；发现检疫传染病时，还应当用最快的办法向国务院卫生行政部门报告。\",\n",
    "                    \"4.医院感染的时间分布医院感染的季节分布，一般是秋冬季感染率较高，而夏季的感染率则相对较低。（二）医院感染的传播过程对于外源性感染而言，医院感染的传播过程包括了传染源、传播途径和易感人群三个环节，三个环节缺少任一环节则其传播过程将中断。但是，内源性感染或自身感染，其传播过程则和上述不同，需从微生态学角度进行描述，它包括感染源（患者自身）、病原体易位途径和易感微生态环境。\",\n",
    "                    \"2报告时限和程序突发公共卫生事件监测机构、医疗卫生机构及有关单位发现突发公共卫生事件后，应在2小时内向所在地区县（区）级人民政府的卫生行政部门报告。卫生行政部门在接到突发公共卫生事件报告后，应在2小时内向同级入民政府报告；同时，向上级人民政府卫生行政部门报告，并立即组织进行现场调查，确认事件性质，及时采取措施，随时报告事件进展事态。\"\n",
    "                ],\n",
    "                \"scores\": [\n",
    "                    0.8871313333511353,\n",
    "                    0.8642984330654144,\n",
    "                    0.862925261259079,\n",
    "                    0.8627749383449554,\n",
    "                    0.8622667789459229,\n",
    "                    0.8618401288986206,\n",
    "                    0.8613466024398804,\n",
    "                    0.8589510321617126,\n",
    "                    0.8581297993659973,\n",
    "                    0.8580926060676575\n",
    "                ],\n",
    "                \"knowledge_names\": [\n",
    "                    \"卫生法\",\n",
    "                    \"预防医学\",\n",
    "                    \"预防医学\",\n",
    "                    \"传染病学\",\n",
    "                    \"卫生法\",\n",
    "                    \"卫生法\",\n",
    "                    \"卫生法\",\n",
    "                    \"卫生法\",\n",
    "                    \"预防医学\",\n",
    "                    \"卫生学\"\n",
    "                ]\n",
    "            },\n",
    "            \"retrieval_time\": 0.940801668999999\n",
    "        }\n",
    "    }"
   ]
  },
  {
   "cell_type": "code",
   "execution_count": 13,
   "id": "1711ce04-aea4-4c25-92a7-aecbc438e092",
   "metadata": {},
   "outputs": [
    {
     "name": "stdout",
     "output_type": "stream",
     "text": [
      "{'question_with_options': '经调查证实出现医院感染流行时，医院应报告当地卫生行政部门的时间是（\\u3000\\u3000）。\\nA. 2小时\\nB. 4小时内\\nC. 8小时内\\nD. 12小时内\\nE. 24小时内', 'answer_with_idx': 'E. 24小时内', 'question': '经调查证实出现医院感染流行时，医院应报告当地卫生行政部门的时间是（\\u3000\\u3000）。', 'options': {'A': '2小时', 'B': '4小时内', 'C': '8小时内', 'D': '12小时内', 'E': '24小时内'}, 'answer': '24小时内', 'meta_info': '卫生法规', 'answer_idx': 'E', 'id': 0, 'retrieve_info': {'retrieve_query': '经调查证实出现医院感染流行时，医院应报告当地卫生行政部门的时间是（\\u3000\\u3000）。\\nA. 2小时\\nB. 4小时内\\nC. 8小时内\\nD. 12小时内\\nE. 24小时内', 'embedding_name': 'stella-base-zh-v2', 'topk_knowledge': 10, 'knowledge_threshold': 0.65, 'knowledges_info': {'knowledges': ['《医院感染管理办法》规定，有下列情形时，医疗机构应当于12小时内向所在地的县级卫生行政部门报告，并同时向所在地疾病预防控制机构报告：CD5例以上医院感染暴发；＠由千医院感染暴发直接导致患者死亡；＠由千医院感染暴发导致3人以上人身损害后果。有下列情形时，应当按照《国家突发公共卫生事件相关信息报告管理工作规范（试行）》的要求进行报告：CD10例以上的医院感染暴发事件；＠发生特殊病原体或者新发病原体的医院感染；＠可能造成重大公共影响或者严重后果的医院感染。', '(3)责任报告人及报告时限：任何入发现传染病患者或者疑似传染病患者时，都应当及时向附近的医疗保健机构或者卫生防疫机构报告。为了加强传染病信息报告管理，原国家卫生部于2006年制定了《传染病信息报告管理规范》，其中规定各级各类医疗机构、疾病预防控制机构、采供血机构均为责任报告单位；其执行职务的人员和乡村医生、个体开业医生均为责任疫情报告人。', '2报告医护人员个人在做好应急处理、安抚患者后，应立即、主动向相关科室如院内感染科、主要领导报告；必要时医院应向上级主管部门报告，以便尽早征求专家对该紧急事件的处理意见。报告的要点包括事件发生的日期及时间、发生的主要过程、严重程度及可能的影响、相关患者和工作人员的基本状况。', '根据我国原卫生部2001年发布的《医院感染诊断标准（试行）》和美国疾病控制预防中心(CDC)医院感染的诊断标准，下述情况属于医院感染：也无明确潜伏期的感染，入院48小时后发生的感染为医院感染；有明确潜伏期的感染，自入院时起超过平均潜伏期后发生的感染为医院感染；＠本次感染与上次住院密切相关，是上次住院期间获得的感染；＠在原有感染的基础上出现其他部位新的感染（除外脓毒血症迁延病灶），或在原有感染基础上又分离出新的病原体（除外污染和原来的混合感染）的感染；＠新生儿在分挽过程当中或产后获得的感染；＠医务人员在其工作期间获得的感染。', '突发事件监测机构、医疗卫生机构和有关单位发现上述需要报告情形之一的，应当在2小时内向所在地县级人民政府卫生行政部门报告；接到报告的卫生行政部门应当在2小时内向本级人民政府报告，并同时向上级人民政府卫生行政部门和国务院卫生行政部门报告。地方人民政府应当在接到报告后2小时内向上一级人民政府报告。', '（二）报告内容和时限\\n《突发公共卫生事件应急条例》规定，有下列情形之一的，省、自治区、直辖市人民政府应当在接136第十二章突发公共卫生事件应急法律制度到报告l小时内，向国务院卫生行政部门报告：CD发生或者可能发生传染病暴发、流行；＠发生或者发现不明原因的群体性疾病；＠发生传染病菌种、毒种丢失；＠发生或者可能发生重大食物和职业中毒事件。', '省、自治区直辖市人民政府在接到报告l小时内，向国务院卫生行政部门报告。国务院卫生行政部门对可能造成重大社会影响的突发公共卫生事件，立即向国务院报告。接到报告的地方人民政府、卫生行政部门在依照规定报告的同时，应当立即组织力量对报告事项调查核实、确证，采取必要的控制措施，并及时报告调查情况。对举报突发公共卫生事件有功的单位和个人，县级以上各级人民政府及其有关部门应当予以奖励。', '2.卫生检疫机关的通报卫生检疫机关发现检疫传染病、监测传染病、疑似检疫传染病时，应当向当地卫生行政部门和卫生防疫机构通报；发现检疫传染病时，还应当用最快的办法向国务院卫生行政部门报告。', '4.医院感染的时间分布医院感染的季节分布，一般是秋冬季感染率较高，而夏季的感染率则相对较低。（二）医院感染的传播过程对于外源性感染而言，医院感染的传播过程包括了传染源、传播途径和易感人群三个环节，三个环节缺少任一环节则其传播过程将中断。但是，内源性感染或自身感染，其传播过程则和上述不同，需从微生态学角度进行描述，它包括感染源（患者自身）、病原体易位途径和易感微生态环境。', '2报告时限和程序突发公共卫生事件监测机构、医疗卫生机构及有关单位发现突发公共卫生事件后，应在2小时内向所在地区县（区）级人民政府的卫生行政部门报告。卫生行政部门在接到突发公共卫生事件报告后，应在2小时内向同级入民政府报告；同时，向上级人民政府卫生行政部门报告，并立即组织进行现场调查，确认事件性质，及时采取措施，随时报告事件进展事态。'], 'scores': [0.8871313333511353, 0.8642984330654144, 0.862925261259079, 0.8627749383449554, 0.8622667789459229, 0.8618401288986206, 0.8613466024398804, 0.8589510321617126, 0.8581297993659973, 0.8580926060676575], 'knowledge_names': ['卫生法', '预防医学', '预防医学', '传染病学', '卫生法', '卫生法', '卫生法', '卫生法', '预防医学', '卫生学']}, 'retrieval_time': 0.940801668999999}}\n"
     ]
    }
   ],
   "source": [
    "print(example)"
   ]
  },
  {
   "cell_type": "code",
   "execution_count": 16,
   "id": "0d9d7ae5-e75f-485a-a8ee-07842f66219b",
   "metadata": {},
   "outputs": [],
   "source": [
    "question_str = example[\"question_with_options\"]\n",
    "knowledge_lists = example[\"retrieve_info\"][\"knowledges_info\"][\"knowledges\"]\n",
    "knowledges_for_llm = \"\\n\\n\".join(knowledge_lists)\n",
    "answer_str = example[\"answer_with_idx\"]"
   ]
  },
  {
   "cell_type": "code",
   "execution_count": 17,
   "id": "f99bf89a-d7a3-4acd-8ec3-7037d512e6e1",
   "metadata": {},
   "outputs": [],
   "source": [
    "total_input = general_prompt.format(knowledges_for_llm, question_str, answer_str)"
   ]
  },
  {
   "cell_type": "code",
   "execution_count": 18,
   "id": "7978ec02-f2c3-4b2b-914c-0e266bc46bd4",
   "metadata": {},
   "outputs": [
    {
     "name": "stdout",
     "output_type": "stream",
     "text": [
      "#目标#\n",
      "你是一个专业的医生、医学类教授，学历为博士，你掌握了扎实的医学基础知识，包括解剖学、生理学、病理学等，以满分的成绩通过了执业医师资格考试，能准确无误地回答临床、中医、口腔、公共卫生等各类医学问题和医学资格考试题并且能详细做出解释。\n",
      "请模仿参考的回答案例，基于以下从知识库当中检索到的知识，对于**给定问题**和**参考答案**，撰写详细的、有据可依的解析，以便帮助更好地理解参考答案。如果提供的知识没有帮助，则忽略提供的知识，直接以你的专业能力进行解释。\n",
      "\n",
      "#参考的回答案例#\n",
      "<问题示例>\n",
      "给定问题：下列哪项是耳、肾毒性最大的氨基糖苷类抗生素？（　　）\n",
      "A. 庆大霉素\n",
      "B. 卡那霉素\n",
      "C. 西索米星\n",
      "D. 奈替米星\n",
      "E. 新霉素\n",
      "参考答案：E. 新霉素\n",
      "\n",
      "解析：新霉素是一种氨基糖苷类抗生素，具有广泛的抗菌谱，但因其耳毒性和肾毒性较大，临床应用受到限制。新霉素的耳毒性主要表现为听力下降、耳鸣和平衡障碍，而肾毒性则表现为肾小管损伤和肾功能减退。因此，在临床使用时需要严格掌握适应症和剂量，避免不良反应的发生。其他选项的氨基糖苷类抗生素虽然也具有一定的耳毒性和肾毒性，但相对较小。\n",
      "\n",
      "</问题示例>\n",
      "\n",
      "#知识#\n",
      "知识库中检索的知识如下所示：\n",
      "<知识点>\n",
      "《医院感染管理办法》规定，有下列情形时，医疗机构应当于12小时内向所在地的县级卫生行政部门报告，并同时向所在地疾病预防控制机构报告：CD5例以上医院感染暴发；＠由千医院感染暴发直接导致患者死亡；＠由千医院感染暴发导致3人以上人身损害后果。有下列情形时，应当按照《国家突发公共卫生事件相关信息报告管理工作规范（试行）》的要求进行报告：CD10例以上的医院感染暴发事件；＠发生特殊病原体或者新发病原体的医院感染；＠可能造成重大公共影响或者严重后果的医院感染。\n",
      "\n",
      "(3)责任报告人及报告时限：任何入发现传染病患者或者疑似传染病患者时，都应当及时向附近的医疗保健机构或者卫生防疫机构报告。为了加强传染病信息报告管理，原国家卫生部于2006年制定了《传染病信息报告管理规范》，其中规定各级各类医疗机构、疾病预防控制机构、采供血机构均为责任报告单位；其执行职务的人员和乡村医生、个体开业医生均为责任疫情报告人。\n",
      "\n",
      "2报告医护人员个人在做好应急处理、安抚患者后，应立即、主动向相关科室如院内感染科、主要领导报告；必要时医院应向上级主管部门报告，以便尽早征求专家对该紧急事件的处理意见。报告的要点包括事件发生的日期及时间、发生的主要过程、严重程度及可能的影响、相关患者和工作人员的基本状况。\n",
      "\n",
      "根据我国原卫生部2001年发布的《医院感染诊断标准（试行）》和美国疾病控制预防中心(CDC)医院感染的诊断标准，下述情况属于医院感染：也无明确潜伏期的感染，入院48小时后发生的感染为医院感染；有明确潜伏期的感染，自入院时起超过平均潜伏期后发生的感染为医院感染；＠本次感染与上次住院密切相关，是上次住院期间获得的感染；＠在原有感染的基础上出现其他部位新的感染（除外脓毒血症迁延病灶），或在原有感染基础上又分离出新的病原体（除外污染和原来的混合感染）的感染；＠新生儿在分挽过程当中或产后获得的感染；＠医务人员在其工作期间获得的感染。\n",
      "\n",
      "突发事件监测机构、医疗卫生机构和有关单位发现上述需要报告情形之一的，应当在2小时内向所在地县级人民政府卫生行政部门报告；接到报告的卫生行政部门应当在2小时内向本级人民政府报告，并同时向上级人民政府卫生行政部门和国务院卫生行政部门报告。地方人民政府应当在接到报告后2小时内向上一级人民政府报告。\n",
      "\n",
      "（二）报告内容和时限\n",
      "《突发公共卫生事件应急条例》规定，有下列情形之一的，省、自治区、直辖市人民政府应当在接136第十二章突发公共卫生事件应急法律制度到报告l小时内，向国务院卫生行政部门报告：CD发生或者可能发生传染病暴发、流行；＠发生或者发现不明原因的群体性疾病；＠发生传染病菌种、毒种丢失；＠发生或者可能发生重大食物和职业中毒事件。\n",
      "\n",
      "省、自治区直辖市人民政府在接到报告l小时内，向国务院卫生行政部门报告。国务院卫生行政部门对可能造成重大社会影响的突发公共卫生事件，立即向国务院报告。接到报告的地方人民政府、卫生行政部门在依照规定报告的同时，应当立即组织力量对报告事项调查核实、确证，采取必要的控制措施，并及时报告调查情况。对举报突发公共卫生事件有功的单位和个人，县级以上各级人民政府及其有关部门应当予以奖励。\n",
      "\n",
      "2.卫生检疫机关的通报卫生检疫机关发现检疫传染病、监测传染病、疑似检疫传染病时，应当向当地卫生行政部门和卫生防疫机构通报；发现检疫传染病时，还应当用最快的办法向国务院卫生行政部门报告。\n",
      "\n",
      "4.医院感染的时间分布医院感染的季节分布，一般是秋冬季感染率较高，而夏季的感染率则相对较低。（二）医院感染的传播过程对于外源性感染而言，医院感染的传播过程包括了传染源、传播途径和易感人群三个环节，三个环节缺少任一环节则其传播过程将中断。但是，内源性感染或自身感染，其传播过程则和上述不同，需从微生态学角度进行描述，它包括感染源（患者自身）、病原体易位途径和易感微生态环境。\n",
      "\n",
      "2报告时限和程序突发公共卫生事件监测机构、医疗卫生机构及有关单位发现突发公共卫生事件后，应在2小时内向所在地区县（区）级人民政府的卫生行政部门报告。卫生行政部门在接到突发公共卫生事件报告后，应在2小时内向同级入民政府报告；同时，向上级人民政府卫生行政部门报告，并立即组织进行现场调查，确认事件性质，及时采取措施，随时报告事件进展事态。\n",
      "</知识点>\n",
      "\n",
      "#需要生成解析的问题#\n",
      "请针对以下用户输入的选择题以及对应的参考答案，结合检索到的知识给出准确的、详细的、合理的解析过程。\n",
      "**给定问题**：经调查证实出现医院感染流行时，医院应报告当地卫生行政部门的时间是（　　）。\n",
      "A. 2小时\n",
      "B. 4小时内\n",
      "C. 8小时内\n",
      "D. 12小时内\n",
      "E. 24小时内\n",
      "**参考答案**：E. 24小时内\n",
      "\n",
      "#回答格式#\n",
      "解析：xxx\n"
     ]
    }
   ],
   "source": [
    "print(total_input)"
   ]
  },
  {
   "cell_type": "markdown",
   "id": "66584245-fd7f-4d17-92a8-bd0124bcb859",
   "metadata": {},
   "source": [
    "## 英文版本-用于对问题和答案生成解释"
   ]
  },
  {
   "cell_type": "code",
   "execution_count": 43,
   "id": "a6831ee5-8054-41b6-8b90-c64d726cb304",
   "metadata": {},
   "outputs": [
    {
     "name": "stdout",
     "output_type": "stream",
     "text": [
      "#Goal#\n",
      "You are a professional doctor and medical professor with a doctoral degree. You have a solid foundation in medical knowledge, including anatomy, physiology, pathology, etc. You have passed the qualification exam for practicing physicians with full marks, and can accurately and accurately answer various medical questions and medical qualification exam questions in clinical practice, traditional Chinese medicine, dentistry, public health, and provide detailed explanations.\n",
      "Please imitate the reference answer example and based on the knowledge retrieved from the knowledge base, write a detailed and evidence-based analysis for the **Given question** and **Reference answer** to help better understand the reference answer. If the provided knowledge is not helpful, ignore the provided knowledge and explain it directly based on your professional abilities.\n",
      "\n",
      "#Reference answer example#\n",
      "<example>\n",
      "Given question: A 21-year-old sexually active male complains of fever, pain during urination, and inflammation and pain in the right knee. A culture of the joint fluid shows a bacteria that does not ferment maltose and has no polysaccharide capsule. The physician orders antibiotic therapy for the patient. The mechanism of action of action of the medication given blocks cell wall synthesis, which of the following was given?\n",
      "A. Chloramphenicol\n",
      "B. Gentamicin\n",
      "C. Ciprofloxacin\n",
      "D. Ceftriaxone\n",
      "E. Trimethoprim\n",
      "Reference answer: D. Ceftriaxone\n",
      "\n",
      "Analysis: According to the provided information, the symptoms of this 21-year-old male include fever, painful urination, inflammation and pain in the right knee, as well as joint fluid culture results indicating that bacteria do not ferment maltose and do not contain polysaccharide capsules. These pieces of information point to possible bacterial infections, especially considering the results of joint fluid culture, which may be related to a specific bacterium.\n",
      "In the given options, we need to find an antibiotic whose mechanism of action is to block cell wall synthesis. The cell wall is the external structure of bacteria and is crucial for their survival. Antibiotics can effectively kill or inhibit bacterial growth by interfering with the synthesis of cell walls.\n",
      "\n",
      "The following is a brief analysis of the given options:\n",
      "A. Chloramphenicol is a broad-spectrum antibiotic that primarily exerts its effects by inhibiting bacterial protein synthesis, rather than directly blocking cell wall synthesis.\n",
      "B. Gentamicin: an aminoglycoside antibiotic that primarily inhibits protein synthesis by binding to the 30S ribosomal subunit of bacteria, but also does not block cell wall synthesis.\n",
      "C. Ciprofloxacin is a fluoroquinolone antibiotic that primarily inhibits bacterial DNA gyrase and topoisomerase IV, interfering with DNA replication, repair, and transcription rather than blocking cell wall synthesis.\n",
      "D. Ceftriaxone: a third-generation cephalosporin antibiotic, its mechanism of action is to inhibit the synthesis of bacterial cell walls, thereby preventing bacterial growth and reproduction.\n",
      "E. Trimethoprim: Usually used in combination with sulfonamide drugs, it inhibits bacterial growth by inhibiting bacterial dihydrofolate reductase and blocking folate synthesis, rather than directly blocking cell wall synthesis.\n",
      "\n",
      "According to the above analysis, option D (ceftriaxone) is the only antibiotic whose mechanism of action is to block cell wall synthesis. Therefore, the correct answer is D. Ceftriaxone.\n",
      "</example>\n",
      "\n",
      "#Knowledges#\n",
      "The knowledge retrieved from the knowledge base is as follows:\n",
      "<knowledge>\n",
      "{}\n",
      "</knowledge>\n",
      "\n",
      "#Question that needs to be generated for parsing#\n",
      "Please provide an accurate, detailed, and reasonable analysis process about the multiple choice question and corresponding reference answers entered by users, combined with the retrieved knowledge.\n",
      "**Given question**: {}\n",
      "**Reference answer**: {}\n",
      "\n",
      "#Answer format#\n",
      "Analysis: xxx\n"
     ]
    }
   ],
   "source": [
    "general_prompt = '''#Goal#\n",
    "You are a professional doctor and medical professor with a doctoral degree. You have a solid foundation in medical knowledge, including anatomy, physiology, pathology, etc. You have passed the qualification exam for practicing physicians with full marks, and can accurately and accurately answer various medical questions and medical qualification exam questions in clinical practice, traditional Chinese medicine, dentistry, public health, and provide detailed explanations.\n",
    "Please imitate the reference answer example and based on the knowledge retrieved from the knowledge base, write a detailed and evidence-based analysis for the **Given question** and **Reference answer** to help better understand the reference answer. If the provided knowledge is not helpful, ignore the provided knowledge and explain it directly based on your professional abilities.\n",
    "\n",
    "#Reference answer example#\n",
    "<example>\n",
    "Given question: A 21-year-old sexually active male complains of fever, pain during urination, and inflammation and pain in the right knee. A culture of the joint fluid shows a bacteria that does not ferment maltose and has no polysaccharide capsule. The physician orders antibiotic therapy for the patient. The mechanism of action of action of the medication given blocks cell wall synthesis, which of the following was given?\\nA. Chloramphenicol\\nB. Gentamicin\\nC. Ciprofloxacin\\nD. Ceftriaxone\\nE. Trimethoprim\n",
    "Reference answer: D. Ceftriaxone\n",
    "\n",
    "Analysis: According to the provided information, the symptoms of this 21-year-old male include fever, painful urination, inflammation and pain in the right knee, as well as joint fluid culture results indicating that bacteria do not ferment maltose and do not contain polysaccharide capsules. These pieces of information point to possible bacterial infections, especially considering the results of joint fluid culture, which may be related to a specific bacterium.\n",
    "In the given options, we need to find an antibiotic whose mechanism of action is to block cell wall synthesis. The cell wall is the external structure of bacteria and is crucial for their survival. Antibiotics can effectively kill or inhibit bacterial growth by interfering with the synthesis of cell walls.\n",
    "\n",
    "The following is a brief analysis of the given options:\n",
    "A. Chloramphenicol is a broad-spectrum antibiotic that primarily exerts its effects by inhibiting bacterial protein synthesis, rather than directly blocking cell wall synthesis.\n",
    "B. Gentamicin: an aminoglycoside antibiotic that primarily inhibits protein synthesis by binding to the 30S ribosomal subunit of bacteria, but also does not block cell wall synthesis.\n",
    "C. Ciprofloxacin is a fluoroquinolone antibiotic that primarily inhibits bacterial DNA gyrase and topoisomerase IV, interfering with DNA replication, repair, and transcription rather than blocking cell wall synthesis.\n",
    "D. Ceftriaxone: a third-generation cephalosporin antibiotic, its mechanism of action is to inhibit the synthesis of bacterial cell walls, thereby preventing bacterial growth and reproduction.\n",
    "E. Trimethoprim: Usually used in combination with sulfonamide drugs, it inhibits bacterial growth by inhibiting bacterial dihydrofolate reductase and blocking folate synthesis, rather than directly blocking cell wall synthesis.\n",
    "\n",
    "According to the above analysis, option D (ceftriaxone) is the only antibiotic whose mechanism of action is to block cell wall synthesis. Therefore, the correct answer is D. Ceftriaxone.\n",
    "</example>\n",
    "\n",
    "#Knowledges#\n",
    "The knowledge retrieved from the knowledge base is as follows:\n",
    "<knowledge>\n",
    "{}\n",
    "</knowledge>\n",
    "\n",
    "#Question that needs to be generated for parsing#\n",
    "Please provide an accurate, detailed, and reasonable analysis process about the multiple choice question and corresponding reference answers entered by users, combined with the retrieved knowledge.\n",
    "**Given question**: {}\n",
    "**Reference answer**: {}\n",
    "\n",
    "#Answer format#\n",
    "Analysis: xxx'''\n",
    "\n",
    "print(general_prompt)"
   ]
  },
  {
   "cell_type": "code",
   "execution_count": 51,
   "id": "be9bf621-864f-49b8-a1d0-87653de2fe00",
   "metadata": {},
   "outputs": [],
   "source": [
    "key_names_list = [\n",
    "    ['knowledges_for_llm'], # 读取temp_dict['total_text']\n",
    "    ['question_with_options'],\n",
    "    ['answer_with_idx']\n",
    "]\n",
    "\n",
    "list_placeholder = 'list_placeholder'\n",
    "\n",
    "prompt_config = {\n",
    "    \"general_prompt\": general_prompt,\n",
    "    \"key_names_list\": key_names_list,\n",
    "    \"list_placeholder\": list_placeholder\n",
    "}"
   ]
  },
  {
   "cell_type": "code",
   "execution_count": 52,
   "id": "86c33d9a-b9fc-4c94-98ae-162970c63af0",
   "metadata": {},
   "outputs": [],
   "source": [
    "with open('./prompt_config_of_generate_explain_en.json', \"w\", encoding=\"utf-8\") as f:\n",
    "    json.dump(prompt_config, f, indent=4, ensure_ascii=False)"
   ]
  },
  {
   "cell_type": "code",
   "execution_count": null,
   "id": "cb76f264-b1f8-46a1-8cf8-6feee43e632b",
   "metadata": {},
   "outputs": [],
   "source": []
  },
  {
   "cell_type": "code",
   "execution_count": null,
   "id": "07c2d623-83b0-45f9-bbf5-5b20affb66ba",
   "metadata": {},
   "outputs": [],
   "source": []
  },
  {
   "cell_type": "code",
   "execution_count": 47,
   "id": "a1808c8a-46f6-4ede-b33a-9febc20f43c0",
   "metadata": {},
   "outputs": [],
   "source": [
    "example = {\n",
    "        \"question_with_options\": \"A 5-year-old girl is brought to the emergency department by her mother because of multiple episodes of nausea and vomiting that last about 2 hours. During this period, she has had 6–8 episodes of bilious vomiting and abdominal pain. The vomiting was preceded by fatigue. The girl feels well between these episodes. She has missed several days of school and has been hospitalized 2 times during the past 6 months for dehydration due to similar episodes of vomiting and nausea. The patient has lived with her mother since her parents divorced 8 months ago. Her immunizations are up-to-date. She is at the 60th percentile for height and 30th percentile for weight. She appears emaciated. Her temperature is 36.8°C (98.8°F), pulse is 99/min, and blood pressure is 82/52 mm Hg. Examination shows dry mucous membranes. The lungs are clear to auscultation. Abdominal examination shows a soft abdomen with mild diffuse tenderness with no guarding or rebound. The remainder of the physical examination shows no abnormalities. Which of the following is the most likely diagnosis?\\nA. Cyclic vomiting syndrome\\nB. Gastroenteritis\\nC. Hypertrophic pyloric stenosis\\nD. Gastroesophageal reflux disease\\nE. Acute intermittent porphyria\",\n",
    "        \"answer_with_idx\": \"A. Cyclic vomiting syndrome\",\n",
    "        \"question\": \"A 5-year-old girl is brought to the emergency department by her mother because of multiple episodes of nausea and vomiting that last about 2 hours. During this period, she has had 6–8 episodes of bilious vomiting and abdominal pain. The vomiting was preceded by fatigue. The girl feels well between these episodes. She has missed several days of school and has been hospitalized 2 times during the past 6 months for dehydration due to similar episodes of vomiting and nausea. The patient has lived with her mother since her parents divorced 8 months ago. Her immunizations are up-to-date. She is at the 60th percentile for height and 30th percentile for weight. She appears emaciated. Her temperature is 36.8°C (98.8°F), pulse is 99/min, and blood pressure is 82/52 mm Hg. Examination shows dry mucous membranes. The lungs are clear to auscultation. Abdominal examination shows a soft abdomen with mild diffuse tenderness with no guarding or rebound. The remainder of the physical examination shows no abnormalities. Which of the following is the most likely diagnosis?\",\n",
    "        \"options\": {\n",
    "            \"A\": \"Cyclic vomiting syndrome\",\n",
    "            \"B\": \"Gastroenteritis\",\n",
    "            \"C\": \"Hypertrophic pyloric stenosis\",\n",
    "            \"D\": \"Gastroesophageal reflux disease\",\n",
    "            \"E\": \"Acute intermittent porphyria\"\n",
    "        },\n",
    "        \"answer\": \"Cyclic vomiting syndrome\",\n",
    "        \"meta_info\": \"step2&3\",\n",
    "        \"answer_idx\": \"A\",\n",
    "        \"id\": 1,\n",
    "        \"retrieve_info\": {\n",
    "            \"retrieve_query\": \"A 5-year-old girl is brought to the emergency department by her mother because of multiple episodes of nausea and vomiting that last about 2 hours. During this period, she has had 6–8 episodes of bilious vomiting and abdominal pain. The vomiting was preceded by fatigue. The girl feels well between these episodes. She has missed several days of school and has been hospitalized 2 times during the past 6 months for dehydration due to similar episodes of vomiting and nausea. The patient has lived with her mother since her parents divorced 8 months ago. Her immunizations are up-to-date. She is at the 60th percentile for height and 30th percentile for weight. She appears emaciated. Her temperature is 36.8°C (98.8°F), pulse is 99/min, and blood pressure is 82/52 mm Hg. Examination shows dry mucous membranes. The lungs are clear to auscultation. Abdominal examination shows a soft abdomen with mild diffuse tenderness with no guarding or rebound. The remainder of the physical examination shows no abnormalities. Which of the following is the most likely diagnosis?\\nA. Cyclic vomiting syndrome\\nB. Gastroenteritis\\nC. Hypertrophic pyloric stenosis\\nD. Gastroesophageal reflux disease\\nE. Acute intermittent porphyria\",\n",
    "            \"embedding_name\": \"stella-base-en-v2\",\n",
    "            \"topk_knowledge\": 10,\n",
    "            \"knowledge_threshold\": 0.65,\n",
    "            \"knowledges_info\": {\n",
    "                \"knowledges\": [\n",
    "                    \"The history helps define the etiology of nausea and vomiting. Drugs, toxins, and infections often cause acute symptoms, whereas established illnesses evoke chronic complaints. Gastroparesis and pyloric obstruction elicit vomiting within an hour of eating. Emesis from intestinal blockage occurs later. Vomiting occurring within minutes of meal consumption prompts consideration of rumination syndrome. With severe gastric emptying delays, the vomitus may contain food residue ingested hours or days before. Hematemesis raises suspicion of an ulcer, malignancy, or Mallory-Weiss tear. Feculent emesis is noted with distal intestinal or colonic obstruction. Bilious vomiting excludes gastric obstruction, whereas emesis of undigested food is consistent with a Zenker’s diverticulum or achalasia. Vomiting can relieve abdominal pain from a bowel obstruction, but has no effect in pancreatitis or cholecystitis. Profound weight loss raises concern about malignancy or obstruction. Fevers suggest inflammation. An intracranial source is considered if there are headaches or visual field changes. Vertigo or tinnitus indicates labyrinthine disease.\",\n",
    "                    \"A 19-year-old woman presented to the emergency department with a 36-hour history of lower abdominal pain that was sharp and initially intermittent, later becoming constant and severe. The patient also reported feeling nauseated and vomited once in the ER. She did not have diarrhea and had opened her bowels normally 8 hours before admission. She had no symptoms of dysuria. She was afebrile, slightly tachycardic at 95/min, and had a normal blood pressure. Blood results showed mild leukocytosis of 11.6 x 109/L and normal renal and liver function tests. She reported being sexually active with a long-term partner. She was never pregnant, and the urine pregnancy test on admission was negative.\",\n",
    "                    \"About 60% of children with malrotation present withsymptoms of bilious vomiting during the first month of life.The remaining 40% present later in infancy or childhood.The emesis initially may be due to obstruction by Ladd bandswithout volvulus. When midgut volvulus occurs, the venousdrainage of the gut is impaired; congestion results in ischemia, pain, tenderness, and often bloody emesis and stools.The bowel undergoes ischemic necrosis, and the child mayappear septic. Physicians must be alert to the possibility ofvolvulus in patients with vomiting and fussiness or abdominal pain.\",\n",
    "                    \"Associated Fever, vomiting (bilious?), diarrhea (bloody?), symptoms abdominal distention\",\n",
    "                    \"This may present special difficulties in diagnosis, as a young child’s capacity for accurate description is limited. Instead of complaining of headache, the child appears limp and pale and complains of abdominal pain; vomiting is more frequent than in the adult, and there may be slight fever. Recurrent attacks were referred to in the past by pediatricians as the “periodic syndrome” as discussed in an earlier section. Another variant in the child is episodic vertigo and staggering (paroxysmal disequilibrium) followed by headache, probably a type of basilar migraine (see Watson and Steele). Also, there are puzzling patients with bouts of fever or transient disturbances in mood (“psychic equivalents”) and abdominal pain (abdominal migraine), that had been attributed to migraine.\",\n",
    "                    \"Episodes of cyclic vomiting or periodic recurrent abdominal pain have been linked to migraine as a result of the frequent co-occurrence of these symptoms with headache or typical migraine at other times. Pallor, lethargy, and mild headache are common. This episodic disorder seems to be a problem almost exclusively of children. The results of diagnostic investigation are normal but one cannot be faulted for pursuing some form of testing with the initial occurrence of the syndrome.\",\n",
    "                    \"malrotation, should be considered. Metabolic disorders (e.g.,organic acidemias, galactosemia, urea cycle defects, adrenogenital syndromes) may present with vomiting in infants. Inolder children with acute vomiting, viruses and food poisoning are common. Other infections, especially streptococcalpharyngitis, urinary tract infections, and otitis media, commonly result in vomiting. When vomiting is chronic, centralnervous system (CNS) causes (increased intracranial pressure,migraine) must be considered. Cyclic vomiting syndrome or migraine may be the etiology of recurrent vomiting. Whenabdominal pain or bilious emesis accompanies vomiting, evaluation for bowel obstruction, peptic disorders, and appendicitismust be immediately initiated.\",\n",
    "                    \"Biliary colic begins quite suddenly and may persist with severe intensity for 30 min to 5 h, subsiding gradually or rapidly. It is steady rather than intermittent, as would be suggested by the word colic, which must be regarded as a misnomer, although it is in widespread use. An episode of biliary pain persisting beyond 5 h should raise the suspicion of acute cholecystitis (see below). Nausea and vomiting frequently accompany episodes of biliary pain. An elevated level of serum bilirubin and/or alkaline phosphatase suggests a common duct stone. Fever or chills (rigors) with biliary pain usually imply a complication, i.e., cholecystitis, pancreatitis, or cholangitis. Complaints of short-lasting, vague epigastric fullness, dyspepsia, eructation, or flatulence, especially following a fatty meal, should not be confused with biliary pain. Such symptoms are frequently elicited from patients with or without gallstone disease\",\n",
    "                    \"The physical examination complements the history. Orthostatic hypotension and reduced skin turgor indicate intravascular fluid loss. Pulmonary abnormalities raise concern for aspiration of vomitus. Abdominal auscultation may reveal absent bowel sounds with ileus. High-pitched rushes suggest bowel obstruction, whereas a succussion splash upon abrupt lateral movement of the patient is found with gastroparesis or pyloric obstruction. Tenderness or involuntary guarding raises suspicion of inflammation, whereas fecal blood suggests mucosal injury from ulcer, ischemia, or tumor. Neurologic disease presents with papilledema, visual field loss, or focal neural abnormalities. Neoplasm is suggested by palpation of masses or adenopathy.\",\n",
    "                    \". Rarely, other areas of the colon can develop volvulus if differential mesen-teric lengths form.Sclerosing MesenteritisSclerosing mesenteritis is a rare disorder characterized by idio-pathic fibrosis of the mesentery, affecting hollow viscera as well as mesenteric vessels. The disease is part of a spectrum of inflammation and fibrosis, which when localized is known as mesenteric lipodystrophy and when diffuse is known as mes-enteric panniculitis. The cause of this disease is unknown, but it may be instigated by antecedent abdominal surgery, an auto-immune disease, a paraneoplastic syndrome, a previous infec-tion (including typhoid, tuberculosis, influenza, and rheumatic fever), or vascular insult. This disease most commonly effects Figure 35-9. Computed tomography scan findings indicative of omental infarction. The area demonstrated by the bold arrow appears congested with a streaking whirling pattern of fatty tissue in the anterior abdomen. (Reproduced with permission from Barai KP, Knight BC: Diagnosis and management of idiopathic omental infarc-tion: A case report, Int J Surg Case Rep. 2011;2(6):138-140.)Brunicardi_Ch35_p1549-p1566.indd   155912/02/19   9:59 AM 1560SPECIFIC CONSIDERATIONSPART IIwhite patients between 50 and 70 years of age, although it has been rarely described in children. Most studies report a predi-lection for male patients. Most patients with this disease pres-ent with abdominal pain. Other symptoms include nausea and vomiting, weight loss, anorexia, and altered bowel habits. This may appear as a chronic or acute disorder. On physical exam, patients may be found to have tenderness and distension\"\n",
    "                ],\n",
    "                \"scores\": [\n",
    "                    0.9173557460308075,\n",
    "                    0.9160718023777008,\n",
    "                    0.9137437641620636,\n",
    "                    0.913531094789505,\n",
    "                    0.9129475057125092,\n",
    "                    0.9116173088550568,\n",
    "                    0.9111358821392059,\n",
    "                    0.9077881276607513,\n",
    "                    0.9068382978439331,\n",
    "                    0.9066468179225922\n",
    "                ],\n",
    "                \"knowledge_names\": [\n",
    "                    \"InternalMed_Harrison\",\n",
    "                    \"Anatomy_Gray\",\n",
    "                    \"Pediatrics_Nelson\",\n",
    "                    \"Pediatrics_Nelson\",\n",
    "                    \"Neurology_Adams\",\n",
    "                    \"Neurology_Adams\",\n",
    "                    \"Pediatrics_Nelson\",\n",
    "                    \"InternalMed_Harrison\",\n",
    "                    \"InternalMed_Harrison\",\n",
    "                    \"Surgery_Schwartz\"\n",
    "                ]\n",
    "            },\n",
    "            \"retrieval_time\": 0.3525243799999984\n",
    "        }\n",
    "    }"
   ]
  },
  {
   "cell_type": "code",
   "execution_count": 48,
   "id": "70957a54-fabf-4cb1-a816-46a97ba4f551",
   "metadata": {},
   "outputs": [],
   "source": [
    "question_str = example[\"question_with_options\"]\n",
    "knowledge_lists = example[\"retrieve_info\"][\"knowledges_info\"][\"knowledges\"]\n",
    "knowledges_for_llm = \"\\n\\n\".join(knowledge_lists)\n",
    "answer_str = example[\"answer_with_idx\"]"
   ]
  },
  {
   "cell_type": "code",
   "execution_count": 49,
   "id": "43172405-0254-42ee-8f5e-16d3db75f9f2",
   "metadata": {},
   "outputs": [],
   "source": [
    "total_input = general_prompt.format(knowledges_for_llm, question_str, answer_str)"
   ]
  },
  {
   "cell_type": "code",
   "execution_count": 50,
   "id": "2d9c7c90-3cbc-4b9a-9051-d4fd3a2bf96f",
   "metadata": {},
   "outputs": [
    {
     "name": "stdout",
     "output_type": "stream",
     "text": [
      "#Goal#\n",
      "You are a professional doctor and medical professor with a doctoral degree. You have a solid foundation in medical knowledge, including anatomy, physiology, pathology, etc. You have passed the qualification exam for practicing physicians with full marks, and can accurately and accurately answer various medical questions and medical qualification exam questions in clinical practice, traditional Chinese medicine, dentistry, public health, and provide detailed explanations.\n",
      "Please imitate the reference answer example and based on the knowledge retrieved from the knowledge base, write a detailed and evidence-based analysis for the **Given question** and **Reference answer** to help better understand the reference answer. If the provided knowledge is not helpful, ignore the provided knowledge and explain it directly based on your professional abilities.\n",
      "\n",
      "#Reference answer example#\n",
      "<example>\n",
      "Given question: A 21-year-old sexually active male complains of fever, pain during urination, and inflammation and pain in the right knee. A culture of the joint fluid shows a bacteria that does not ferment maltose and has no polysaccharide capsule. The physician orders antibiotic therapy for the patient. The mechanism of action of action of the medication given blocks cell wall synthesis, which of the following was given?\n",
      "A. Chloramphenicol\n",
      "B. Gentamicin\n",
      "C. Ciprofloxacin\n",
      "D. Ceftriaxone\n",
      "E. Trimethoprim\n",
      "Reference answer: D. Ceftriaxone\n",
      "\n",
      "Analysis: According to the provided information, the symptoms of this 21-year-old male include fever, painful urination, inflammation and pain in the right knee, as well as joint fluid culture results indicating that bacteria do not ferment maltose and do not contain polysaccharide capsules. These pieces of information point to possible bacterial infections, especially considering the results of joint fluid culture, which may be related to a specific bacterium.\n",
      "In the given options, we need to find an antibiotic whose mechanism of action is to block cell wall synthesis. The cell wall is the external structure of bacteria and is crucial for their survival. Antibiotics can effectively kill or inhibit bacterial growth by interfering with the synthesis of cell walls.\n",
      "\n",
      "The following is a brief analysis of the given options:\n",
      "A. Chloramphenicol is a broad-spectrum antibiotic that primarily exerts its effects by inhibiting bacterial protein synthesis, rather than directly blocking cell wall synthesis.\n",
      "B. Gentamicin: an aminoglycoside antibiotic that primarily inhibits protein synthesis by binding to the 30S ribosomal subunit of bacteria, but also does not block cell wall synthesis.\n",
      "C. Ciprofloxacin is a fluoroquinolone antibiotic that primarily inhibits bacterial DNA gyrase and topoisomerase IV, interfering with DNA replication, repair, and transcription rather than blocking cell wall synthesis.\n",
      "D. Ceftriaxone: a third-generation cephalosporin antibiotic, its mechanism of action is to inhibit the synthesis of bacterial cell walls, thereby preventing bacterial growth and reproduction.\n",
      "E. Trimethoprim: Usually used in combination with sulfonamide drugs, it inhibits bacterial growth by inhibiting bacterial dihydrofolate reductase and blocking folate synthesis, rather than directly blocking cell wall synthesis.\n",
      "\n",
      "According to the above analysis, option D (ceftriaxone) is the only antibiotic whose mechanism of action is to block cell wall synthesis. Therefore, the correct answer is D. Ceftriaxone.\n",
      "</example>\n",
      "\n",
      "#Knowledges#\n",
      "The knowledge retrieved from the knowledge base is as follows:\n",
      "<knowledge>\n",
      "The history helps define the etiology of nausea and vomiting. Drugs, toxins, and infections often cause acute symptoms, whereas established illnesses evoke chronic complaints. Gastroparesis and pyloric obstruction elicit vomiting within an hour of eating. Emesis from intestinal blockage occurs later. Vomiting occurring within minutes of meal consumption prompts consideration of rumination syndrome. With severe gastric emptying delays, the vomitus may contain food residue ingested hours or days before. Hematemesis raises suspicion of an ulcer, malignancy, or Mallory-Weiss tear. Feculent emesis is noted with distal intestinal or colonic obstruction. Bilious vomiting excludes gastric obstruction, whereas emesis of undigested food is consistent with a Zenker’s diverticulum or achalasia. Vomiting can relieve abdominal pain from a bowel obstruction, but has no effect in pancreatitis or cholecystitis. Profound weight loss raises concern about malignancy or obstruction. Fevers suggest inflammation. An intracranial source is considered if there are headaches or visual field changes. Vertigo or tinnitus indicates labyrinthine disease.\n",
      "\n",
      "A 19-year-old woman presented to the emergency department with a 36-hour history of lower abdominal pain that was sharp and initially intermittent, later becoming constant and severe. The patient also reported feeling nauseated and vomited once in the ER. She did not have diarrhea and had opened her bowels normally 8 hours before admission. She had no symptoms of dysuria. She was afebrile, slightly tachycardic at 95/min, and had a normal blood pressure. Blood results showed mild leukocytosis of 11.6 x 109/L and normal renal and liver function tests. She reported being sexually active with a long-term partner. She was never pregnant, and the urine pregnancy test on admission was negative.\n",
      "\n",
      "About 60% of children with malrotation present withsymptoms of bilious vomiting during the first month of life.The remaining 40% present later in infancy or childhood.The emesis initially may be due to obstruction by Ladd bandswithout volvulus. When midgut volvulus occurs, the venousdrainage of the gut is impaired; congestion results in ischemia, pain, tenderness, and often bloody emesis and stools.The bowel undergoes ischemic necrosis, and the child mayappear septic. Physicians must be alert to the possibility ofvolvulus in patients with vomiting and fussiness or abdominal pain.\n",
      "\n",
      "Associated Fever, vomiting (bilious?), diarrhea (bloody?), symptoms abdominal distention\n",
      "\n",
      "This may present special difficulties in diagnosis, as a young child’s capacity for accurate description is limited. Instead of complaining of headache, the child appears limp and pale and complains of abdominal pain; vomiting is more frequent than in the adult, and there may be slight fever. Recurrent attacks were referred to in the past by pediatricians as the “periodic syndrome” as discussed in an earlier section. Another variant in the child is episodic vertigo and staggering (paroxysmal disequilibrium) followed by headache, probably a type of basilar migraine (see Watson and Steele). Also, there are puzzling patients with bouts of fever or transient disturbances in mood (“psychic equivalents”) and abdominal pain (abdominal migraine), that had been attributed to migraine.\n",
      "\n",
      "Episodes of cyclic vomiting or periodic recurrent abdominal pain have been linked to migraine as a result of the frequent co-occurrence of these symptoms with headache or typical migraine at other times. Pallor, lethargy, and mild headache are common. This episodic disorder seems to be a problem almost exclusively of children. The results of diagnostic investigation are normal but one cannot be faulted for pursuing some form of testing with the initial occurrence of the syndrome.\n",
      "\n",
      "malrotation, should be considered. Metabolic disorders (e.g.,organic acidemias, galactosemia, urea cycle defects, adrenogenital syndromes) may present with vomiting in infants. Inolder children with acute vomiting, viruses and food poisoning are common. Other infections, especially streptococcalpharyngitis, urinary tract infections, and otitis media, commonly result in vomiting. When vomiting is chronic, centralnervous system (CNS) causes (increased intracranial pressure,migraine) must be considered. Cyclic vomiting syndrome or migraine may be the etiology of recurrent vomiting. Whenabdominal pain or bilious emesis accompanies vomiting, evaluation for bowel obstruction, peptic disorders, and appendicitismust be immediately initiated.\n",
      "\n",
      "Biliary colic begins quite suddenly and may persist with severe intensity for 30 min to 5 h, subsiding gradually or rapidly. It is steady rather than intermittent, as would be suggested by the word colic, which must be regarded as a misnomer, although it is in widespread use. An episode of biliary pain persisting beyond 5 h should raise the suspicion of acute cholecystitis (see below). Nausea and vomiting frequently accompany episodes of biliary pain. An elevated level of serum bilirubin and/or alkaline phosphatase suggests a common duct stone. Fever or chills (rigors) with biliary pain usually imply a complication, i.e., cholecystitis, pancreatitis, or cholangitis. Complaints of short-lasting, vague epigastric fullness, dyspepsia, eructation, or flatulence, especially following a fatty meal, should not be confused with biliary pain. Such symptoms are frequently elicited from patients with or without gallstone disease\n",
      "\n",
      "The physical examination complements the history. Orthostatic hypotension and reduced skin turgor indicate intravascular fluid loss. Pulmonary abnormalities raise concern for aspiration of vomitus. Abdominal auscultation may reveal absent bowel sounds with ileus. High-pitched rushes suggest bowel obstruction, whereas a succussion splash upon abrupt lateral movement of the patient is found with gastroparesis or pyloric obstruction. Tenderness or involuntary guarding raises suspicion of inflammation, whereas fecal blood suggests mucosal injury from ulcer, ischemia, or tumor. Neurologic disease presents with papilledema, visual field loss, or focal neural abnormalities. Neoplasm is suggested by palpation of masses or adenopathy.\n",
      "\n",
      ". Rarely, other areas of the colon can develop volvulus if differential mesen-teric lengths form.Sclerosing MesenteritisSclerosing mesenteritis is a rare disorder characterized by idio-pathic fibrosis of the mesentery, affecting hollow viscera as well as mesenteric vessels. The disease is part of a spectrum of inflammation and fibrosis, which when localized is known as mesenteric lipodystrophy and when diffuse is known as mes-enteric panniculitis. The cause of this disease is unknown, but it may be instigated by antecedent abdominal surgery, an auto-immune disease, a paraneoplastic syndrome, a previous infec-tion (including typhoid, tuberculosis, influenza, and rheumatic fever), or vascular insult. This disease most commonly effects Figure 35-9. Computed tomography scan findings indicative of omental infarction. The area demonstrated by the bold arrow appears congested with a streaking whirling pattern of fatty tissue in the anterior abdomen. (Reproduced with permission from Barai KP, Knight BC: Diagnosis and management of idiopathic omental infarc-tion: A case report, Int J Surg Case Rep. 2011;2(6):138-140.)Brunicardi_Ch35_p1549-p1566.indd   155912/02/19   9:59 AM 1560SPECIFIC CONSIDERATIONSPART IIwhite patients between 50 and 70 years of age, although it has been rarely described in children. Most studies report a predi-lection for male patients. Most patients with this disease pres-ent with abdominal pain. Other symptoms include nausea and vomiting, weight loss, anorexia, and altered bowel habits. This may appear as a chronic or acute disorder. On physical exam, patients may be found to have tenderness and distension\n",
      "</knowledge>\n",
      "\n",
      "#Question that needs to be generated for parsing#\n",
      "Please provide an accurate, detailed, and reasonable analysis process about the multiple choice question and corresponding reference answers entered by users, combined with the retrieved knowledge.\n",
      "**Given question**: A 5-year-old girl is brought to the emergency department by her mother because of multiple episodes of nausea and vomiting that last about 2 hours. During this period, she has had 6–8 episodes of bilious vomiting and abdominal pain. The vomiting was preceded by fatigue. The girl feels well between these episodes. She has missed several days of school and has been hospitalized 2 times during the past 6 months for dehydration due to similar episodes of vomiting and nausea. The patient has lived with her mother since her parents divorced 8 months ago. Her immunizations are up-to-date. She is at the 60th percentile for height and 30th percentile for weight. She appears emaciated. Her temperature is 36.8°C (98.8°F), pulse is 99/min, and blood pressure is 82/52 mm Hg. Examination shows dry mucous membranes. The lungs are clear to auscultation. Abdominal examination shows a soft abdomen with mild diffuse tenderness with no guarding or rebound. The remainder of the physical examination shows no abnormalities. Which of the following is the most likely diagnosis?\n",
      "A. Cyclic vomiting syndrome\n",
      "B. Gastroenteritis\n",
      "C. Hypertrophic pyloric stenosis\n",
      "D. Gastroesophageal reflux disease\n",
      "E. Acute intermittent porphyria\n",
      "**Reference answer**: A. Cyclic vomiting syndrome\n",
      "\n",
      "#Answer format#\n",
      "Analysis: xxx\n"
     ]
    }
   ],
   "source": [
    "print(total_input)"
   ]
  },
  {
   "cell_type": "code",
   "execution_count": null,
   "id": "b8dee131-2bbd-4b79-bc9d-ae41d2c1f5c6",
   "metadata": {},
   "outputs": [],
   "source": []
  },
  {
   "cell_type": "markdown",
   "id": "8ad8a27a-e145-46f2-a2e2-a7b2463aae3c",
   "metadata": {},
   "source": [
    "## 测试代码（可删除）"
   ]
  },
  {
   "cell_type": "code",
   "execution_count": 22,
   "id": "9b926bb8-5261-4d67-a7a0-b970e295204d",
   "metadata": {},
   "outputs": [],
   "source": [
    "RAG_PROMPT_TEMPLATE = \"\"\"\n",
    "#目标#\n",
    "你是一个专业的医生，请基于以下从知识库当中检索到的知识回答问题。如果无法从知识中得到答案，忽略已知知识直接回答问题。你的回答风格需要参考回答格式，先生成分析和推理答案的解析过程，然后提供回答的答案，也就是\"解析：...\\n答案：...\"的模式。\n",
    "\n",
    "#参考的回答案例#\n",
    "<问题示例>\n",
    "用户输入的问题：下列哪项是耳、肾毒性最大的氨基糖苷类抗生素？（　　）\\nA. 庆大霉素\\nB. 卡那霉素\\nC. 西索米星\\nD. 奈替米星\\nE. 新霉素\n",
    "回答：\n",
    "解析：新霉素是一种氨基糖苷类抗生素，具有广泛的抗菌谱，但因其耳毒性和肾毒性较大，临床应用受到限制。新霉素的耳毒性主要表现为听力下降、耳鸣和平衡障碍，而肾毒性则表现为肾小管损伤和肾功能减退。因此，在临床使用时需要严格掌握适应症和剂量，避免不良反应的发生。其他选项的氨基糖苷类抗生素虽然也具有一定的耳毒性和肾毒性，但相对较小。\n",
    "答案：E. 新霉素\n",
    "</问题示例>\n",
    "\n",
    "#知识#\n",
    "知识库中检索的知识如下所示：\n",
    "<知识点>\n",
    "{knowledge}\n",
    "</知识点>\n",
    "\n",
    "#问题#\n",
    "请针对以下用户输入的选择题，结合检索到的知识给出准确的回答。\n",
    "用户输入的问题：{query}\n",
    "\n",
    "\n",
    "#回答格式#\n",
    "解析：[详细的推理和分析过程]\n",
    "答案：[答案选项，如果答案是多个则以换行符分隔]\n",
    "\"\"\""
   ]
  },
  {
   "cell_type": "code",
   "execution_count": 23,
   "id": "cdd84cad-87ae-4a90-a518-83f5fbdf1c58",
   "metadata": {
    "scrolled": true
   },
   "outputs": [
    {
     "name": "stdout",
     "output_type": "stream",
     "text": [
      "\n",
      "#目标#\n",
      "你是一个专业的医生，请基于以下从知识库当中检索到的知识回答问题。如果无法从知识中得到答案，忽略已知知识直接回答问题。你的回答风格需要参考回答格式，先生成分析和推理答案的解析过程，然后提供回答的答案，也就是\"解析：...\n",
      "答案：...\"的模式。\n",
      "\n",
      "#参考的回答案例#\n",
      "<问题示例>\n",
      "用户输入的问题：下列哪项是耳、肾毒性最大的氨基糖苷类抗生素？（　　）\n",
      "A. 庆大霉素\n",
      "B. 卡那霉素\n",
      "C. 西索米星\n",
      "D. 奈替米星\n",
      "E. 新霉素\n",
      "回答：\n",
      "解析：新霉素是一种氨基糖苷类抗生素，具有广泛的抗菌谱，但因其耳毒性和肾毒性较大，临床应用受到限制。新霉素的耳毒性主要表现为听力下降、耳鸣和平衡障碍，而肾毒性则表现为肾小管损伤和肾功能减退。因此，在临床使用时需要严格掌握适应症和剂量，避免不良反应的发生。其他选项的氨基糖苷类抗生素虽然也具有一定的耳毒性和肾毒性，但相对较小。\n",
      "答案：E. 新霉素\n",
      "</问题示例>\n",
      "\n",
      "#知识#\n",
      "知识库中检索的知识如下所示：\n",
      "<知识点>\n",
      "{knowledge}\n",
      "</知识点>\n",
      "\n",
      "#问题#\n",
      "请针对以下用户输入的选择题，结合检索到的知识给出准确的回答。\n",
      "用户输入的问题：{query}\n",
      "\n",
      "\n",
      "#回答格式#\n",
      "解析：[详细的推理和分析过程]\n",
      "答案：[答案选项，如果答案是多个则以换行符分隔]\n",
      "\n"
     ]
    }
   ],
   "source": [
    "print(RAG_PROMPT_TEMPLATE)"
   ]
  },
  {
   "cell_type": "code",
   "execution_count": null,
   "id": "4d0cfccd-e0ff-4b1d-9646-b12e0cd6ab53",
   "metadata": {},
   "outputs": [],
   "source": []
  },
  {
   "cell_type": "code",
   "execution_count": 24,
   "id": "db78f5b8-7cbd-44a4-88db-f80c14ae7e48",
   "metadata": {},
   "outputs": [],
   "source": [
    "example = {\n",
    "    \"question_with_options\": \"男，54岁，风心病伴左心衰竭患者，应用洋地黄3周后出现频发多源性室性早搏。1．患者心律失常发生原因应首先考虑是由于（　　）。\\nA. 心肌缺血\\nB. 心力衰竭\\nC. 并发急性心肌梗死\\nD. 洋地黄过量或中毒\\nE. 电解质紊乱\",\n",
    "    \"answer_with_idx\": \"D. 洋地黄过量或中毒\",\n",
    "    \"question\": \"男，54岁，风心病伴左心衰竭患者，应用洋地黄3周后出现频发多源性室性早搏。1．患者心律失常发生原因应首先考虑是由于（　　）。\",\n",
    "    \"options\": {\n",
    "        \"A\": \"心肌缺血\",\n",
    "        \"B\": \"心力衰竭\",\n",
    "        \"C\": \"并发急性心肌梗死\",\n",
    "        \"D\": \"洋地黄过量或中毒\",\n",
    "        \"E\": \"电解质紊乱\"\n",
    "    },\n",
    "    \"answer\": \"洋地黄过量或中毒\",\n",
    "    \"meta_info\": \"第2篇　心血管系统\",\n",
    "    \"answer_idx\": \"D\",\n",
    "    \"id\": 6391,\n",
    "    \"retrieve_info\": {\n",
    "        \"retrieve_query\": \"男，54岁，风心病伴左心衰竭患者，应用洋地黄3周后出现频发多源性室性早搏。1．患者心律失常发生原因应首先考虑是由于（　　）。\\nA. 心肌缺血\\nB. 心力衰竭\\nC. 并发急性心肌梗死\\nD. 洋地黄过量或中毒\\nE. 电解质紊乱\",\n",
    "        \"embedding_name\": \"stella-base-zh-v2\",\n",
    "        \"topk_knowledge\": 10,\n",
    "        \"knowledge_threshold\": 0.65,\n",
    "        \"knowledges_info\": {\n",
    "            \"knowledges\": [\n",
    "                \"＠心肌功能的损害：表现为心律失常和心肌对洋地黄类强心药物的敏感性增加。(a)心律失常：由千自律性增高，可出现窦性心动过速；异位起搏的插入而出现期前收缩、阵发性心动过速等；尤其心肌兴奋性升高、3期复极化延缓所致的超常期延长更易化了心律失常的发生。\",\n",
    "                \"主要是治疗急性左心衰竭，以应用吗啡（或Uj替院）和利尿剂为主，亦可选用血管扩张剂减轻左心室的负荷，或用多巴酣丁胶10µg/(kg·min）静脉滴注或用短效ACEI从小剂量开始等治疗（参见本篇第二章）。洋地黄制剂可能引起室性心律失常，宜慎用。由于最早期出现的心力衰竭主要是坏死心肌间质充血、水肿引起顺应性下降所致，而左心室舒张末期容量－尚不增大，因此在梗死发生后24小时内宜尽量避免使用洋地黄制剂。有右心室梗死的病人应慎用利尿剂。\",\n",
    "                \"(1)具备两项临床指标者可临床诊断。发病同时或发病前1~3周有病毒感染的证据支持诊断。(2)同时具备病原学确诊依据之一者，可确诊为病毒性心肌炎；具备病原学参考依据之一者，可临床诊断为病毒性心肌炎。(3)凡不具备确诊依据，应给予必要的治疗或随诊，根据病情变化，确诊或除外心肌炎。(4)应除外风湿性心肌炎、中毒性心肌炎、先天性心脏病、由风湿性疾病以及代谢性疾病（如甲状腺功能亢进症）引起的心肌损害、原发性心肌病、原发性心内膜弹力纤维增生症、先天性房室传导阻滞心脏自主神经功能异常、µ受体功能亢进及药物引起的心电图改变。［治疗】1.休息急性期需卧床休息，减轻心脏负荷。2.药物治疗(1)对千仍处于病毒血症阶段的早期患者，可选用抗病毒治疗，但疗效不确定。(2)改善心肌营养：1,6－二磷酸果糖有益于改善心肌能量代谢，促进受损细胞的修复，同时可选用大剂量维生素C、泛酰(CoQlO)、维生素E和复合维生素B，中药生脉饮、黄苠口服液等。(3)大剂量免疫球蛋白：通过免疫调节作用减轻心肌细胞损害。(4)皮质激素：通常不使用。对重型患者合并心源性休克、致死性心律失常（三度房室传导阻滞、室性心动过速）、心肌活体组织检查证实慢性自身免疫性心肌炎症反应者应足量、早期应用。(5)心律失常治疗：参见本章第七节。(6)心力衰竭治疗：应控制液体摄入量，可根据病情联合应用利尿剂、洋地黄和血管活性药物，应特别注意用洋地黄时饱和量应较常规剂量减少，并注意补充氯化钾，以避免洋地黄中毒。\",\n",
    "                \"除发病年龄特点和临床表现以充血性心力衰竭为主以外，实验室检查、尤其是超声心动图检查具有诊断意义。【治疗l本病如不治疗，大多于2岁前死亡。对洋地黄反应良好而又能长期坚持治疗者预后较好，且有痊愈的可能。正性肌力药物，如洋地黄可用于控制心力衰竭，一般反应较好。使用时间最少要2年左右。在无禁忌证的情况下可同时选用血管紧张素转换酶抑制剂＆受体阻断药。肾上腺皮质激素使用时间不宜过长。\",\n",
    "                \"洋地黄制剂应用过程中应警惕洋地黄中毒的发生。心肌缺血、缺氧及低血饵、低血臻、甲状腺功能减退、肾功能不全的情况下更易出现洋地黄中毒，其最重要的表现为各类心律失常，以室性期前收缩常见，多表现为二联律，非阵发性交界区心动过速，房性期前收缩，心房颤动及房室传导阻滞等。快速房性心律失常伴传导阻滞是洋地黄中毒的特征性表现。胃肠道表现如恶心、呕吐，以及神经系统症状如视物模糊、黄视、绿视，定向力障碍、意识障碍等则较少见。发生洋地黄中毒后应立即停药。单发性室性期前收缩、一度房室传导阻滞等停药后常自行消失；对快速型心律失常者，如血饵浓度低则可用静脉补饵，如血饵不低可用利多卡因或苯妥英锅，电复律因易致心室颤动，一般禁用；有传导阻滞及缓慢型心律失常者可予阿托品静脉注射；异丙肾上腺素易诱发室d性心律失常，故不宜应用。\",\n",
    "                \"洋地黄的临床应用：伴有快速心房颤动／心房扑动的收缩性心力衰竭是应用洋地黄的最佳指征，包括扩张型心肌病、二尖瓣或主动脉瓣病变、陈旧性心肌梗死及高血压性心脏病所致慢性心力衰竭。在利尿剂、ACEI/ARB和自受体拮抗剂治疗过程中仍持续有心衰症状的病人可考虑加用地高辛。但对代谢异常引起的高排血量心衰如贫血性心脏病、甲状腺功能亢进以及心肌炎、心肌病等病因所致心衰，洋地黄治疗效果欠佳。肺源性心脏病常伴低氧血症，与心肌梗死、缺血性心肌病均易发生洋地黄中毒，应慎用；应用其他可能抑制窦房结或房室结功能或可能影响地高辛血药浓度的药物（如胶腆酣或自受体阻滞剂）时须慎用或减量；存在流出道梗阻如肥厚型心肌病、主动脉瓣狭窄的病人，增加心肌收缩性可能使原有的血流动力学障碍更为加重，禁用洋地黄；风湿性心脏病单纯二尖瓣狭窄伴窦’性心律的肺水肿病人因增加右心室收缩功能可能加重肺水肿程度而禁用；严重窦性心动过缓或房室传导阻滞病人在未植入起搏器前禁用。对于液体滞留或低血压等心衰症状急性加重的病人，应首选静脉制剂，待病情稳定后再应用地高辛作为长期治疗策略之一。\",\n",
    "                \"图3-3-16非阵发性房室交界区性心动过速QRS波群形态、时限正常，QRS被群前出现逆行P波，频率为94次／分治疗主要针对基本病因。本型心律失常通常能自行消失，如病人耐受性良好，仅需密切观察和治疗原发疾病。己用洋地黄或疑洋地黄中毒者应立即停用洋地黄，补充御盐，可应用洋地黄抗体，不宜施行电复律内地黄无关可应用自受体叫钙通酣剂叫黄治疗。其他相选用@I A、I C与E类（胶腆酣）药物。\",\n",
    "                \"梗死再灌注期间、心脏手术、心肌病、风湿热与洋地黄中毒。发作短暂或间歇，病人一般无症状，亦不影响预后。通常无需抗心律失常治疗。\",\n",
    "                \"3.抗心律失常利多卡因可用千心肌梗死后的室性期前收缩和室性心动过速，亦可用千洋地黄类中毒、心脏外科手术及心导管引起的室性心律失常。对室上性心律失常通常无效。\",\n",
    "                \"还可出现房室阻滞，当出现二度或三度房室阻滞时，则是洋地黄严重中毒表现。另外也可发生窦性停搏或窦房阻滞、心房扑动、心房颤动等。\"\n",
    "            ],\n",
    "            \"scores\": [\n",
    "                0.9174634516239166,\n",
    "                0.9149642586708069,\n",
    "                0.9119339883327484,\n",
    "                0.9101782739162445,\n",
    "                0.9086626172065735,\n",
    "                0.9077078402042389,\n",
    "                0.9069059193134308,\n",
    "                0.9050037860870361,\n",
    "                0.9037726521492004,\n",
    "                0.9027815759181976\n",
    "            ],\n",
    "            \"knowledge_names\": [\n",
    "                \"病理生理学\",\n",
    "                \"内科学\",\n",
    "                \"儿科学\",\n",
    "                \"儿科学\",\n",
    "                \"内科学\",\n",
    "                \"内科学\",\n",
    "                \"内科学\",\n",
    "                \"内科学\",\n",
    "                \"临床药理学\",\n",
    "                \"诊断学\"\n",
    "            ]\n",
    "        },\n",
    "        \"retrieval_time\": 0.10626020399996605\n",
    "    },\n",
    "    \"knowledges_for_llm\": \"＠心肌功能的损害：表现为心律失常和心肌对洋地黄类强心药物的敏感性增加。(a)心律失常：由千自律性增高，可出现窦性心动过速；异位起搏的插入而出现期前收缩、阵发性心动过速等；尤其心肌兴奋性升高、3期复极化延缓所致的超常期延长更易化了心律失常的发生。\\n\\n主要是治疗急性左心衰竭，以应用吗啡（或Uj替院）和利尿剂为主，亦可选用血管扩张剂减轻左心室的负荷，或用多巴酣丁胶10µg/(kg·min）静脉滴注或用短效ACEI从小剂量开始等治疗（参见本篇第二章）。洋地黄制剂可能引起室性心律失常，宜慎用。由于最早期出现的心力衰竭主要是坏死心肌间质充血、水肿引起顺应性下降所致，而左心室舒张末期容量－尚不增大，因此在梗死发生后24小时内宜尽量避免使用洋地黄制剂。有右心室梗死的病人应慎用利尿剂。\\n\\n(1)具备两项临床指标者可临床诊断。发病同时或发病前1~3周有病毒感染的证据支持诊断。(2)同时具备病原学确诊依据之一者，可确诊为病毒性心肌炎；具备病原学参考依据之一者，可临床诊断为病毒性心肌炎。(3)凡不具备确诊依据，应给予必要的治疗或随诊，根据病情变化，确诊或除外心肌炎。(4)应除外风湿性心肌炎、中毒性心肌炎、先天性心脏病、由风湿性疾病以及代谢性疾病（如甲状腺功能亢进症）引起的心肌损害、原发性心肌病、原发性心内膜弹力纤维增生症、先天性房室传导阻滞心脏自主神经功能异常、µ受体功能亢进及药物引起的心电图改变。［治疗】1.休息急性期需卧床休息，减轻心脏负荷。2.药物治疗(1)对千仍处于病毒血症阶段的早期患者，可选用抗病毒治疗，但疗效不确定。(2)改善心肌营养：1,6－二磷酸果糖有益于改善心肌能量代谢，促进受损细胞的修复，同时可选用大剂量维生素C、泛酰(CoQlO)、维生素E和复合维生素B，中药生脉饮、黄苠口服液等。(3)大剂量免疫球蛋白：通过免疫调节作用减轻心肌细胞损害。(4)皮质激素：通常不使用。对重型患者合并心源性休克、致死性心律失常（三度房室传导阻滞、室性心动过速）、心肌活体组织检查证实慢性自身免疫性心肌炎症反应者应足量、早期应用。(5)心律失常治疗：参见本章第七节。(6)心力衰竭治疗：应控制液体摄入量，可根据病情联合应用利尿剂、洋地黄和血管活性药物，应特别注意用洋地黄时饱和量应较常规剂量减少，并注意补充氯化钾，以避免洋地黄中毒。\\n\\n除发病年龄特点和临床表现以充血性心力衰竭为主以外，实验室检查、尤其是超声心动图检查具有诊断意义。【治疗l本病如不治疗，大多于2岁前死亡。对洋地黄反应良好而又能长期坚持治疗者预后较好，且有痊愈的可能。正性肌力药物，如洋地黄可用于控制心力衰竭，一般反应较好。使用时间最少要2年左右。在无禁忌证的情况下可同时选用血管紧张素转换酶抑制剂＆受体阻断药。肾上腺皮质激素使用时间不宜过长。\\n\\n洋地黄制剂应用过程中应警惕洋地黄中毒的发生。心肌缺血、缺氧及低血饵、低血臻、甲状腺功能减退、肾功能不全的情况下更易出现洋地黄中毒，其最重要的表现为各类心律失常，以室性期前收缩常见，多表现为二联律，非阵发性交界区心动过速，房性期前收缩，心房颤动及房室传导阻滞等。快速房性心律失常伴传导阻滞是洋地黄中毒的特征性表现。胃肠道表现如恶心、呕吐，以及神经系统症状如视物模糊、黄视、绿视，定向力障碍、意识障碍等则较少见。发生洋地黄中毒后应立即停药。单发性室性期前收缩、一度房室传导阻滞等停药后常自行消失；对快速型心律失常者，如血饵浓度低则可用静脉补饵，如血饵不低可用利多卡因或苯妥英锅，电复律因易致心室颤动，一般禁用；有传导阻滞及缓慢型心律失常者可予阿托品静脉注射；异丙肾上腺素易诱发室d性心律失常，故不宜应用。\\n\\n洋地黄的临床应用：伴有快速心房颤动／心房扑动的收缩性心力衰竭是应用洋地黄的最佳指征，包括扩张型心肌病、二尖瓣或主动脉瓣病变、陈旧性心肌梗死及高血压性心脏病所致慢性心力衰竭。在利尿剂、ACEI/ARB和自受体拮抗剂治疗过程中仍持续有心衰症状的病人可考虑加用地高辛。但对代谢异常引起的高排血量心衰如贫血性心脏病、甲状腺功能亢进以及心肌炎、心肌病等病因所致心衰，洋地黄治疗效果欠佳。肺源性心脏病常伴低氧血症，与心肌梗死、缺血性心肌病均易发生洋地黄中毒，应慎用；应用其他可能抑制窦房结或房室结功能或可能影响地高辛血药浓度的药物（如胶腆酣或自受体阻滞剂）时须慎用或减量；存在流出道梗阻如肥厚型心肌病、主动脉瓣狭窄的病人，增加心肌收缩性可能使原有的血流动力学障碍更为加重，禁用洋地黄；风湿性心脏病单纯二尖瓣狭窄伴窦’性心律的肺水肿病人因增加右心室收缩功能可能加重肺水肿程度而禁用；严重窦性心动过缓或房室传导阻滞病人在未植入起搏器前禁用。对于液体滞留或低血压等心衰症状急性加重的病人，应首选静脉制剂，待病情稳定后再应用地高辛作为长期治疗策略之一。\\n\\n图3-3-16非阵发性房室交界区性心动过速QRS波群形态、时限正常，QRS被群前出现逆行P波，频率为94次／分治疗主要针对基本病因。本型心律失常通常能自行消失，如病人耐受性良好，仅需密切观察和治疗原发疾病。己用洋地黄或疑洋地黄中毒者应立即停用洋地黄，补充御盐，可应用洋地黄抗体，不宜施行电复律内地黄无关可应用自受体叫钙通酣剂叫黄治疗。其他相选用@I A、I C与E类（胶腆酣）药物。\\n\\n梗死再灌注期间、心脏手术、心肌病、风湿热与洋地黄中毒。发作短暂或间歇，病人一般无症状，亦不影响预后。通常无需抗心律失常治疗。\\n\\n3.抗心律失常利多卡因可用千心肌梗死后的室性期前收缩和室性心动过速，亦可用千洋地黄类中毒、心脏外科手术及心导管引起的室性心律失常。对室上性心律失常通常无效。\\n\\n还可出现房室阻滞，当出现二度或三度房室阻滞时，则是洋地黄严重中毒表现。另外也可发生窦性停搏或窦房阻滞、心房扑动、心房颤动等。\",\n",
    "    \"chatgpt_explain\": \"解析：洋地黄是一种强心药，其作用机制主要是通过抑制心脏的Na+/K+-ATP酶，增加心肌细胞内的Ca2+浓度，从而增强心肌收缩力。然而，洋地黄的治疗窗口较窄，过量或中毒可能导致严重的心律失常。在风心病伴左心衰竭的患者中，由于心肌功能可能已经受损，心肌对洋地黄的敏感性增加，因此更易发生洋地黄过量或中毒。\\n\\n根据所提供的知识点，洋地黄中毒可表现为各类心律失常，尤其是室性心律失常，如室性期前收缩等。此外，患者在洋地黄治疗过程中出现心律失常，尤其是在治疗3周后，更需警惕洋地黄中毒的可能。在知识点中提到，快速房性心律失常伴传导阻滞是洋地黄中毒的特征性表现，而多源性室性早搏也可能是洋地黄中毒引起的心律失常之一。\\n\\n因此，对于这位54岁风心病伴左心衰竭的患者，在应用洋地黄3周后出现频发多源性室性早搏，首先应考虑的心律失常发生原因是洋地黄过量或中毒（选项D）。其他选项如心肌缺血、心力衰竭、并发急性心肌梗死以及电解质紊乱虽然也可能引起心律失常，但根据患者的临床表现和治疗史，洋地黄过量或中毒是最可能的原因。在临床处理时，应立即停药并监测血药浓度，必要时进行相应的解毒治疗。\"\n",
    "}"
   ]
  },
  {
   "cell_type": "code",
   "execution_count": 26,
   "id": "b6e69a48-eddd-42d6-8c22-8e225f5a15aa",
   "metadata": {},
   "outputs": [
    {
     "name": "stdout",
     "output_type": "stream",
     "text": [
      "男，54岁，风心病伴左心衰竭患者，应用洋地黄3周后出现频发多源性室性早搏。1．患者心律失常发生原因应首先考虑是由于（　　）。\n",
      "A. 心肌缺血\n",
      "B. 心力衰竭\n",
      "C. 并发急性心肌梗死\n",
      "D. 洋地黄过量或中毒\n",
      "E. 电解质紊乱\n"
     ]
    }
   ],
   "source": [
    "print(example['question_with_options'])"
   ]
  },
  {
   "cell_type": "code",
   "execution_count": 27,
   "id": "9cbf3d72-16a4-4514-9ff9-fe69994e6791",
   "metadata": {},
   "outputs": [
    {
     "name": "stdout",
     "output_type": "stream",
     "text": [
      "D. 洋地黄过量或中毒\n"
     ]
    }
   ],
   "source": [
    "print(example['answer_with_idx'])"
   ]
  },
  {
   "cell_type": "code",
   "execution_count": 28,
   "id": "bdb858b0-b9e2-4780-a2c1-596ba66fbfd3",
   "metadata": {},
   "outputs": [
    {
     "name": "stdout",
     "output_type": "stream",
     "text": [
      "解析：洋地黄是一种强心药，其作用机制主要是通过抑制心脏的Na+/K+-ATP酶，增加心肌细胞内的Ca2+浓度，从而增强心肌收缩力。然而，洋地黄的治疗窗口较窄，过量或中毒可能导致严重的心律失常。在风心病伴左心衰竭的患者中，由于心肌功能可能已经受损，心肌对洋地黄的敏感性增加，因此更易发生洋地黄过量或中毒。\n",
      "\n",
      "根据所提供的知识点，洋地黄中毒可表现为各类心律失常，尤其是室性心律失常，如室性期前收缩等。此外，患者在洋地黄治疗过程中出现心律失常，尤其是在治疗3周后，更需警惕洋地黄中毒的可能。在知识点中提到，快速房性心律失常伴传导阻滞是洋地黄中毒的特征性表现，而多源性室性早搏也可能是洋地黄中毒引起的心律失常之一。\n",
      "\n",
      "因此，对于这位54岁风心病伴左心衰竭的患者，在应用洋地黄3周后出现频发多源性室性早搏，首先应考虑的心律失常发生原因是洋地黄过量或中毒（选项D）。其他选项如心肌缺血、心力衰竭、并发急性心肌梗死以及电解质紊乱虽然也可能引起心律失常，但根据患者的临床表现和治疗史，洋地黄过量或中毒是最可能的原因。在临床处理时，应立即停药并监测血药浓度，必要时进行相应的解毒治疗。\n"
     ]
    }
   ],
   "source": [
    "print(example[\"chatgpt_explain\"])"
   ]
  },
  {
   "cell_type": "code",
   "execution_count": 32,
   "id": "52d31155-8956-40d0-84ac-214d14919fa0",
   "metadata": {},
   "outputs": [
    {
     "name": "stdout",
     "output_type": "stream",
     "text": [
      "完整的label=\n",
      "解析：洋地黄是一种强心药，其作用机制主要是通过抑制心脏的Na+/K+-ATP酶，增加心肌细胞内的Ca2+浓度，从而增强心肌收缩力。然而，洋地黄的治疗窗口较窄，过量或中毒可能导致严重的心律失常。在风心病伴左心衰竭的患者中，由于心肌功能可能已经受损，心肌对洋地黄的敏感性增加，因此更易发生洋地黄过量或中毒。\n",
      "\n",
      "根据所提供的知识点，洋地黄中毒可表现为各类心律失常，尤其是室性心律失常，如室性期前收缩等。此外，患者在洋地黄治疗过程中出现心律失常，尤其是在治疗3周后，更需警惕洋地黄中毒的可能。在知识点中提到，快速房性心律失常伴传导阻滞是洋地黄中毒的特征性表现，而多源性室性早搏也可能是洋地黄中毒引起的心律失常之一。\n",
      "\n",
      "因此，对于这位54岁风心病伴左心衰竭的患者，在应用洋地黄3周后出现频发多源性室性早搏，首先应考虑的心律失常发生原因是洋地黄过量或中毒（选项D）。其他选项如心肌缺血、心力衰竭、并发急性心肌梗死以及电解质紊乱虽然也可能引起心律失常，但根据患者的临床表现和治疗史，洋地黄过量或中毒是最可能的原因。在临床处理时，应立即停药并监测血药浓度，必要时进行相应的解毒治疗。\n",
      "答案：D. 洋地黄过量或中毒\n"
     ]
    }
   ],
   "source": [
    "print(\"完整的label=\")\n",
    "print(example[\"chatgpt_explain\"]+\"\\n答案：\"+example['answer_with_idx'])"
   ]
  },
  {
   "cell_type": "code",
   "execution_count": null,
   "id": "f0a62b3a-10da-4747-85c1-1f0a6f874657",
   "metadata": {},
   "outputs": [],
   "source": []
  },
  {
   "cell_type": "code",
   "execution_count": 30,
   "id": "8f1d4318-0b4a-40fb-a24e-37a354265e85",
   "metadata": {},
   "outputs": [
    {
     "name": "stdout",
     "output_type": "stream",
     "text": [
      "['＠心肌功能的损害：表现为心律失常和心肌对洋地黄类强心药物的敏感性增加。(a)心律失常：由千自律性增高，可出现窦性心动过速；异位起搏的插入而出现期前收缩、阵发性心动过速等；尤其心肌兴奋性升高、3期复极化延缓所致的超常期延长更易化了心律失常的发生。', '主要是治疗急性左心衰竭，以应用吗啡（或Uj替院）和利尿剂为主，亦可选用血管扩张剂减轻左心室的负荷，或用多巴酣丁胶10µg/(kg·min）静脉滴注或用短效ACEI从小剂量开始等治疗（参见本篇第二章）。洋地黄制剂可能引起室性心律失常，宜慎用。由于最早期出现的心力衰竭主要是坏死心肌间质充血、水肿引起顺应性下降所致，而左心室舒张末期容量－尚不增大，因此在梗死发生后24小时内宜尽量避免使用洋地黄制剂。有右心室梗死的病人应慎用利尿剂。', '(1)具备两项临床指标者可临床诊断。发病同时或发病前1~3周有病毒感染的证据支持诊断。(2)同时具备病原学确诊依据之一者，可确诊为病毒性心肌炎；具备病原学参考依据之一者，可临床诊断为病毒性心肌炎。(3)凡不具备确诊依据，应给予必要的治疗或随诊，根据病情变化，确诊或除外心肌炎。(4)应除外风湿性心肌炎、中毒性心肌炎、先天性心脏病、由风湿性疾病以及代谢性疾病（如甲状腺功能亢进症）引起的心肌损害、原发性心肌病、原发性心内膜弹力纤维增生症、先天性房室传导阻滞心脏自主神经功能异常、µ受体功能亢进及药物引起的心电图改变。［治疗】1.休息急性期需卧床休息，减轻心脏负荷。2.药物治疗(1)对千仍处于病毒血症阶段的早期患者，可选用抗病毒治疗，但疗效不确定。(2)改善心肌营养：1,6－二磷酸果糖有益于改善心肌能量代谢，促进受损细胞的修复，同时可选用大剂量维生素C、泛酰(CoQlO)、维生素E和复合维生素B，中药生脉饮、黄苠口服液等。(3)大剂量免疫球蛋白：通过免疫调节作用减轻心肌细胞损害。(4)皮质激素：通常不使用。对重型患者合并心源性休克、致死性心律失常（三度房室传导阻滞、室性心动过速）、心肌活体组织检查证实慢性自身免疫性心肌炎症反应者应足量、早期应用。(5)心律失常治疗：参见本章第七节。(6)心力衰竭治疗：应控制液体摄入量，可根据病情联合应用利尿剂、洋地黄和血管活性药物，应特别注意用洋地黄时饱和量应较常规剂量减少，并注意补充氯化钾，以避免洋地黄中毒。', '除发病年龄特点和临床表现以充血性心力衰竭为主以外，实验室检查、尤其是超声心动图检查具有诊断意义。【治疗l本病如不治疗，大多于2岁前死亡。对洋地黄反应良好而又能长期坚持治疗者预后较好，且有痊愈的可能。正性肌力药物，如洋地黄可用于控制心力衰竭，一般反应较好。使用时间最少要2年左右。在无禁忌证的情况下可同时选用血管紧张素转换酶抑制剂＆受体阻断药。肾上腺皮质激素使用时间不宜过长。', '洋地黄制剂应用过程中应警惕洋地黄中毒的发生。心肌缺血、缺氧及低血饵、低血臻、甲状腺功能减退、肾功能不全的情况下更易出现洋地黄中毒，其最重要的表现为各类心律失常，以室性期前收缩常见，多表现为二联律，非阵发性交界区心动过速，房性期前收缩，心房颤动及房室传导阻滞等。快速房性心律失常伴传导阻滞是洋地黄中毒的特征性表现。胃肠道表现如恶心、呕吐，以及神经系统症状如视物模糊、黄视、绿视，定向力障碍、意识障碍等则较少见。发生洋地黄中毒后应立即停药。单发性室性期前收缩、一度房室传导阻滞等停药后常自行消失；对快速型心律失常者，如血饵浓度低则可用静脉补饵，如血饵不低可用利多卡因或苯妥英锅，电复律因易致心室颤动，一般禁用；有传导阻滞及缓慢型心律失常者可予阿托品静脉注射；异丙肾上腺素易诱发室d性心律失常，故不宜应用。', '洋地黄的临床应用：伴有快速心房颤动／心房扑动的收缩性心力衰竭是应用洋地黄的最佳指征，包括扩张型心肌病、二尖瓣或主动脉瓣病变、陈旧性心肌梗死及高血压性心脏病所致慢性心力衰竭。在利尿剂、ACEI/ARB和自受体拮抗剂治疗过程中仍持续有心衰症状的病人可考虑加用地高辛。但对代谢异常引起的高排血量心衰如贫血性心脏病、甲状腺功能亢进以及心肌炎、心肌病等病因所致心衰，洋地黄治疗效果欠佳。肺源性心脏病常伴低氧血症，与心肌梗死、缺血性心肌病均易发生洋地黄中毒，应慎用；应用其他可能抑制窦房结或房室结功能或可能影响地高辛血药浓度的药物（如胶腆酣或自受体阻滞剂）时须慎用或减量；存在流出道梗阻如肥厚型心肌病、主动脉瓣狭窄的病人，增加心肌收缩性可能使原有的血流动力学障碍更为加重，禁用洋地黄；风湿性心脏病单纯二尖瓣狭窄伴窦’性心律的肺水肿病人因增加右心室收缩功能可能加重肺水肿程度而禁用；严重窦性心动过缓或房室传导阻滞病人在未植入起搏器前禁用。对于液体滞留或低血压等心衰症状急性加重的病人，应首选静脉制剂，待病情稳定后再应用地高辛作为长期治疗策略之一。', '图3-3-16非阵发性房室交界区性心动过速QRS波群形态、时限正常，QRS被群前出现逆行P波，频率为94次／分治疗主要针对基本病因。本型心律失常通常能自行消失，如病人耐受性良好，仅需密切观察和治疗原发疾病。己用洋地黄或疑洋地黄中毒者应立即停用洋地黄，补充御盐，可应用洋地黄抗体，不宜施行电复律内地黄无关可应用自受体叫钙通酣剂叫黄治疗。其他相选用@I A、I C与E类（胶腆酣）药物。', '梗死再灌注期间、心脏手术、心肌病、风湿热与洋地黄中毒。发作短暂或间歇，病人一般无症状，亦不影响预后。通常无需抗心律失常治疗。', '3.抗心律失常利多卡因可用千心肌梗死后的室性期前收缩和室性心动过速，亦可用千洋地黄类中毒、心脏外科手术及心导管引起的室性心律失常。对室上性心律失常通常无效。', '还可出现房室阻滞，当出现二度或三度房室阻滞时，则是洋地黄严重中毒表现。另外也可发生窦性停搏或窦房阻滞、心房扑动、心房颤动等。']\n"
     ]
    }
   ],
   "source": [
    "print(example[\"retrieve_info\"][\"knowledges_info\"][\"knowledges\"])"
   ]
  },
  {
   "cell_type": "code",
   "execution_count": null,
   "id": "c26cae71-3dee-4e13-a458-5ec18f8084a0",
   "metadata": {},
   "outputs": [],
   "source": []
  }
 ],
 "metadata": {
  "kernelspec": {
   "display_name": "Python 3 (ipykernel)",
   "language": "python",
   "name": "python3"
  },
  "language_info": {
   "codemirror_mode": {
    "name": "ipython",
    "version": 3
   },
   "file_extension": ".py",
   "mimetype": "text/x-python",
   "name": "python",
   "nbconvert_exporter": "python",
   "pygments_lexer": "ipython3",
   "version": "3.10.14"
  }
 },
 "nbformat": 4,
 "nbformat_minor": 5
}
